{
 "cells": [
  {
   "cell_type": "code",
   "execution_count": null,
   "metadata": {},
   "outputs": [],
   "source": [
    "import pandas as pd\n",
    "import numpy as np\n",
    "\n",
    "# Read the CSV file\n",
    "file_path = \"citation_network.csv\"  # Replace with your actual file path\n",
    "df = pd.read_csv(file_path)\n",
    "#df = pd.read_csv(file_path,nrows=1000)"
   ]
  },
  {
   "cell_type": "markdown",
   "metadata": {},
   "source": [
    "# sửa không tìm ra"
   ]
  },
  {
   "cell_type": "code",
   "execution_count": null,
   "metadata": {},
   "outputs": [],
   "source": [
    "import pandas as pd\n",
    "import numpy as np\n",
    "\n",
    "# Initialize an empty list to store the results\n",
    "results = []\n",
    "\n",
    "# Create a mapping of references to their corresponding metadata\n",
    "reference_metadata = df.set_index('id')[['year', 'n_citation', 'doc_type']].to_dict(orient='index')\n",
    "\n",
    "# Process each row in the DataFrame\n",
    "for index, row in df.iterrows():\n",
    "    paper_id = row['id']\n",
    "    references = row['references']\n",
    "    \n",
    "    if pd.isna(references):\n",
    "        # If references is NaN, add a row with ref -1 and corresponding metadata as NaN\n",
    "        results.append({'id': paper_id, 'ref': -1, 'year': np.nan, 'n_citation': np.nan, 'doc_type': np.nan})\n",
    "    else:\n",
    "        # Split references by semicolon and add to results\n",
    "        refs = references.split(';')\n",
    "        for ref in refs:\n",
    "            ref = ref.strip()  # Remove any leading or trailing whitespace\n",
    "            # Get the metadata for the reference, defaulting to NaN if not found\n",
    "            metadata = reference_metadata.get(int(ref), {'year': np.nan, 'n_citation': np.nan, 'doc_type': np.nan})\n",
    "            results.append({\n",
    "                'id': paper_id,\n",
    "                'ref': ref,\n",
    "                'year': metadata['year'],\n",
    "                'n_citation': metadata['n_citation'],\n",
    "                'doc_type': metadata['doc_type']\n",
    "            })\n",
    "\n",
    "# Create a new DataFrame from the results and reset index to create a default index\n",
    "results_df = pd.DataFrame(results).reset_index(drop=True)\n"
   ]
  },
  {
   "cell_type": "code",
   "execution_count": null,
   "metadata": {},
   "outputs": [],
   "source": [
    "# New DataFrame to hold the results\n",
    "result = []\n",
    "\n",
    "# Processing each row\n",
    "for index, row in df.iterrows():\n",
    "    # Check if references is a string\n",
    "    if isinstance(row['references'], str):\n",
    "        ref_list = row['references'].split(';')\n",
    "        for ref in ref_list:\n",
    "            if ref.strip():  # If ref is not empty\n",
    "                result.append({'id': row['id'], 'ref': ref.strip()})\n",
    "    else:\n",
    "        # Handle NaN by setting ref to -1\n",
    "        result.append({'id': row['id'], 'ref': -1})\n",
    "\n",
    "# Creating the result DataFrame\n",
    "result_df = pd.DataFrame(result)\n",
    "\n",
    "# Display the resulting DataFrame\n",
    "print(result_df)"
   ]
  },
  {
   "cell_type": "code",
   "execution_count": null,
   "metadata": {},
   "outputs": [],
   "source": [
    "# Function to find a specific ref\n",
    "def find_ref(ref_value):\n",
    "    # Filter the DataFrame for the specified ref\n",
    "    filtered_df = result_df[result_df['ref'] == ref_value]\n",
    "    return filtered_df\n",
    "\n",
    "# Example usage\n",
    "search_ref = '2005687710'  # Replace with the ref you want to find\n",
    "found_refs = find_ref(search_ref)\n",
    "\n",
    "# Display the results\n",
    "if not found_refs.empty:\n",
    "    print(\"Found references:\")\n",
    "    print(found_refs)\n",
    "else:\n",
    "    print(f\"No references found for: {search_ref}\")"
   ]
  },
  {
   "cell_type": "code",
   "execution_count": null,
   "metadata": {},
   "outputs": [],
   "source": [
    "# Function to add the year based on matching ref with original DataFrame's id\n",
    "def add_year_to_results(result_df, original_df):\n",
    "    # Merge with the original DataFrame based on ref and id\n",
    "    # Create a temporary DataFrame for the references\n",
    "    refs_df = original_df[['id', 'year']].rename(columns={'id': 'ref'})\n",
    "    \n",
    "    # Perform a left join to add the year information\n",
    "    merged_df = result_df.merge(refs_df, on='ref', how='left')\n",
    "    \n",
    "    # If ref was -1 (NaN), set year to NaN as well\n",
    "    merged_df['year'].fillna(-1, inplace=True)  # Set NaN to -1 if desired\n",
    "    \n",
    "    return merged_df\n",
    "\n",
    "# Add year to result_df\n",
    "final_result_df = add_year_to_results(result_df, df)\n"
   ]
  },
  {
   "cell_type": "code",
   "execution_count": null,
   "metadata": {},
   "outputs": [],
   "source": [
    "# Function to find a specific ref\n",
    "def find_ref_final_result_df(ref_value):\n",
    "    # Filter the DataFrame for the specified ref\n",
    "    filtered_df = final_result_df[final_result_df['ref'] == ref_value]\n",
    "    return filtered_df\n",
    "\n",
    "# Example usage\n",
    "search_ref = '2005687710'  # Replace with the ref you want to find\n",
    "found_refs = find_ref_final_result_df(search_ref)\n",
    "\n",
    "# Display the results\n",
    "if not found_refs.empty:\n",
    "    print(\"Found references:\")\n",
    "    print(found_refs)\n",
    "else:\n",
    "    print(f\"No references found for: {search_ref}\")"
   ]
  },
  {
   "cell_type": "code",
   "execution_count": null,
   "metadata": {},
   "outputs": [],
   "source": [
    "def add_year_and_year_ref(result_df, original_df):\n",
    "    # Create a temporary DataFrame for the references from the original DataFrame\n",
    "    refs_df = original_df[['id', 'year']].rename(columns={'id': 'ref'})\n",
    "    \n",
    "    # Merge with the result DataFrame based on the ref\n",
    "    merged_df = result_df.merge(refs_df, on='ref', how='left', suffixes=('', '_original'))\n",
    "\n",
    "    # Create new columns for year and year_ref\n",
    "    merged_df['year'] = merged_df['year_original'].fillna(0)\n",
    "    merged_df['year_ref'] = merged_df['year'].where(merged_df['year'] != 0, 0)\n",
    "\n",
    "    # Drop the temporary column used for merging\n",
    "    merged_df.drop(columns=['year_original'], inplace=True)\n",
    "\n",
    "    return merged_df\n",
    "\n",
    "# Example usage\n",
    "# final_result_df should already be defined with appropriate data\n",
    "final_result_df = add_year_and_year_ref(final_result_df, df)\n",
    "final_result_df"
   ]
  },
  {
   "cell_type": "markdown",
   "metadata": {},
   "source": [
    "n_citation_ref"
   ]
  },
  {
   "cell_type": "code",
   "execution_count": 264,
   "metadata": {},
   "outputs": [],
   "source": [
    "def add_additional_columns(result_df, original_df):\n",
    "    # Create a temporary DataFrame for the references from the original DataFrame\n",
    "    refs_df = original_df[['id', 'year', 'n_citation', 'doc_type']].rename(columns={'id': 'ref'})\n",
    "    \n",
    "    # Merge with the result DataFrame based on the ref\n",
    "    merged_df = result_df.merge(refs_df, on='ref', how='left', suffixes=('', '_original'))\n",
    "\n",
    "    # Create new columns for year, year_ref, n_citation_ref, and doc_type\n",
    "    merged_df['year'] = merged_df['year'].fillna(0)\n",
    "    merged_df['year_ref'] = merged_df['year'].where(merged_df['year'] != 0, 0)\n",
    "\n",
    "    # Rename n_citation to n_citation_ref and fill with 0 if not present\n",
    "    merged_df['n_citation_ref'] = merged_df['n_citation'].fillna(0)\n",
    "    merged_df['doc_type'] = merged_df['doc_type'].fillna(\"none\")\n",
    "\n",
    "    # Add a new column for the original id's n_citation from original_df\n",
    "    merged_df = merged_df.merge(original_df[['id', 'n_citation']], on='id', how='left', suffixes=('', '_original_n'))\n",
    "    merged_df['n_citation_id'] = merged_df['n_citation_original_n'].fillna(0)\n",
    "\n",
    "    # # Drop the temporary columns used for merging, if desired\n",
    "    # merged_df.drop(columns=['n_citation_original_n'], inplace=True)\n",
    "\n",
    "    return merged_df\n",
    "\n",
    "# Example usage\n",
    "# final_result_df should already be defined with appropriate data\n",
    "final_result_df_fix_id_ref = add_additional_columns(final_result_df, df)\n"
   ]
  },
  {
   "cell_type": "code",
   "execution_count": null,
   "metadata": {},
   "outputs": [],
   "source": [
    "final_result_df_fix_id_ref"
   ]
  },
  {
   "cell_type": "code",
   "execution_count": null,
   "metadata": {},
   "outputs": [],
   "source": [
    "# Function to find a specific ref\n",
    "def find_final_result_df_fix_id_ref(ref_value):\n",
    "    # Filter the DataFrame for the specified ref\n",
    "    filtered_df = final_result_df_fix_id_ref[final_result_df_fix_id_ref['ref'] == ref_value]\n",
    "    return filtered_df\n",
    "\n",
    "# Example usage\n",
    "search_ref = '2005687710'  # Replace with the ref you want to find\n",
    "found_refs = find_final_result_df_fix_id_ref(search_ref)\n",
    "\n",
    "# Display the results\n",
    "if not found_refs.empty:\n",
    "    print(\"Found references:\")\n",
    "    print(found_refs)\n",
    "else:\n",
    "    print(f\"No references found for: {search_ref}\")"
   ]
  },
  {
   "cell_type": "code",
   "execution_count": 267,
   "metadata": {},
   "outputs": [],
   "source": [
    "# drop collumn n_citation_id from copy_result_df\n",
    "final_result_df_fix_id_ref.drop('year_original', axis=1, inplace=True)\n",
    "final_result_df_fix_id_ref.drop('n_citation', axis=1, inplace=True)\n",
    "final_result_df_fix_id_ref.drop('n_citation_id', axis=1, inplace=True)\n",
    "final_result_df_fix_id_ref.rename(columns={'n_citation_original_n': 'n_citation'}, inplace=True)"
   ]
  },
  {
   "cell_type": "code",
   "execution_count": null,
   "metadata": {},
   "outputs": [],
   "source": [
    "final_result_df_fix_id_ref"
   ]
  },
  {
   "cell_type": "code",
   "execution_count": 271,
   "metadata": {},
   "outputs": [],
   "source": [
    "result_df=final_result_df_fix_id_ref"
   ]
  },
  {
   "cell_type": "code",
   "execution_count": 272,
   "metadata": {},
   "outputs": [],
   "source": [
    "final_result_df = result_df"
   ]
  },
  {
   "cell_type": "code",
   "execution_count": 273,
   "metadata": {},
   "outputs": [],
   "source": [
    "# Fill missing values\n",
    "result_df['year'] = result_df['year'].fillna(0)\n",
    "result_df['n_citation'] = result_df['n_citation'].fillna(0)\n",
    "result_df['doc_type'] = result_df['doc_type'].fillna('none')\n",
    "result_df['ref'] = result_df['ref'].replace(-1,0)"
   ]
  },
  {
   "cell_type": "code",
   "execution_count": null,
   "metadata": {},
   "outputs": [],
   "source": [
    "result_df "
   ]
  },
  {
   "cell_type": "code",
   "execution_count": 275,
   "metadata": {},
   "outputs": [],
   "source": [
    "result_df.to_csv('id_ref_year_nCitation_docType.csv')"
   ]
  },
  {
   "cell_type": "markdown",
   "metadata": {},
   "source": [
    "saii"
   ]
  },
  {
   "cell_type": "code",
   "execution_count": null,
   "metadata": {},
   "outputs": [],
   "source": [
    "unique_doc_type = result_df['doc_type'].unique()\n",
    "unique_doc_type"
   ]
  },
  {
   "cell_type": "code",
   "execution_count": null,
   "metadata": {},
   "outputs": [],
   "source": [
    "# Finding min and max year, ignoring the default '0' year for id 1388\n",
    "valid_years = result_df[result_df['year_ref'] > 0]['year_ref']  # Filter out years that are 0\n",
    "\n",
    "min_year = valid_years.min() if not valid_years.empty else None\n",
    "max_year = valid_years.max() if not valid_years.empty else None\n",
    "\n",
    "# Adjust the minimum year by subtracting 0 (no change)\n",
    "adjusted_min_year = min_year - 0 if min_year is not None else None\n",
    "\n",
    "# Display the results\n",
    "print(\"Minimum Year (adjusted):\", adjusted_min_year)\n",
    "print(\"Maximum Year:\", max_year)"
   ]
  },
  {
   "cell_type": "code",
   "execution_count": null,
   "metadata": {},
   "outputs": [],
   "source": [
    "\n",
    "# Convert n_citation to numeric, coercing errors to NaN\n",
    "result_df['n_citation'] = pd.to_numeric(result_df['n_citation'], errors='coerce')\n",
    "\n",
    "# Fill NaN values with 0\n",
    "result_df['n_citation'] = result_df['n_citation'].fillna(0).astype(int)\n",
    "\n",
    "# Convert n_citation to numeric, coercing errors to NaN\n",
    "result_df['n_citation_ref'] = pd.to_numeric(result_df['n_citation_ref'], errors='coerce')\n",
    "\n",
    "# Fill NaN values with 0\n",
    "result_df['n_citation_ref'] = result_df['n_citation_ref'].fillna(0).astype(int)\n",
    "# Display the resulting DataFrame\n",
    "print(\"Updated DataFrame with n_citation as int:\")\n",
    "print(result_df)"
   ]
  },
  {
   "cell_type": "code",
   "execution_count": null,
   "metadata": {},
   "outputs": [],
   "source": [
    "# Assuming final_result_df is already defined and contains the necessary columns\n",
    "\n",
    "# Filter values greater than 0 for both columns\n",
    "valid_n_citation_ref = final_result_df[final_result_df['n_citation_ref'] > 0]['n_citation_ref']\n",
    "valid_n_citation_id = final_result_df[final_result_df['n_citation'] > 0]['n_citation']\n",
    "\n",
    "# Find min and max for n_citation_ref\n",
    "min_n_citation_ref = valid_n_citation_ref.min() if not valid_n_citation_ref.empty else None\n",
    "max_n_citation_ref = valid_n_citation_ref.max() if not valid_n_citation_ref.empty else None\n",
    "\n",
    "# Find min and max for n_citation_id\n",
    "min_n_citation_id = valid_n_citation_id.min() if not valid_n_citation_id.empty else None\n",
    "max_n_citation_id = valid_n_citation_id.max() if not valid_n_citation_id.empty else None\n",
    "\n",
    "# Display results\n",
    "print(\"n_citation_ref - Minimum (excluding 0):\", min_n_citation_ref)\n",
    "print(\"n_citation_ref - Maximum (excluding 0):\", max_n_citation_ref)\n",
    "print(\"n_citation_id - Minimum (excluding 0):\", min_n_citation_id)\n",
    "print(\"n_citation_id - Maximum (excluding 0):\", max_n_citation_id)\n"
   ]
  },
  {
   "cell_type": "code",
   "execution_count": null,
   "metadata": {},
   "outputs": [],
   "source": [
    "result_df"
   ]
  },
  {
   "cell_type": "code",
   "execution_count": null,
   "metadata": {},
   "outputs": [],
   "source": [
    "# Function to find a specific ref\n",
    "def find_result_df(ref_value):\n",
    "    # Filter the DataFrame for the specified ref\n",
    "    filtered_df = result_df[result_df['ref'] == ref_value]\n",
    "    return filtered_df\n",
    "\n",
    "# Example usage\n",
    "search_ref = '2005687710'  # Replace with the ref you want to find\n",
    "found_refs = find_result_df(search_ref)\n",
    "\n",
    "# Display the results\n",
    "if not found_refs.empty:\n",
    "    print(\"Found references:\")\n",
    "    print(found_refs)\n",
    "else:\n",
    "    print(f\"No references found for: {search_ref}\")"
   ]
  },
  {
   "cell_type": "code",
   "execution_count": 281,
   "metadata": {},
   "outputs": [],
   "source": [
    "result_df.to_csv('id_ref_year_nCitation_docType.csv')"
   ]
  },
  {
   "cell_type": "markdown",
   "metadata": {},
   "source": [
    "# cập nhật n_citation"
   ]
  },
  {
   "cell_type": "code",
   "execution_count": null,
   "metadata": {},
   "outputs": [],
   "source": [
    "copy_result_df = pd.read_csv('id_ref_year_nCitation_docType.csv')"
   ]
  },
  {
   "cell_type": "code",
   "execution_count": null,
   "metadata": {},
   "outputs": [],
   "source": [
    "copy_result_df = result_df\n",
    "copy_result_df"
   ]
  },
  {
   "cell_type": "code",
   "execution_count": 207,
   "metadata": {},
   "outputs": [],
   "source": [
    "result_df = copy_result_df"
   ]
  },
  {
   "cell_type": "code",
   "execution_count": 284,
   "metadata": {},
   "outputs": [],
   "source": [
    "# Count occurrences of each id in the ref column\n",
    "id_counts = copy_result_df['ref'].value_counts()\n",
    "# Map the counts back to a new column n_citation_id in the original DataFrame\n",
    "copy_result_df['n_citation_id'] = copy_result_df['id'].map(id_counts).fillna(0).astype(int)"
   ]
  },
  {
   "cell_type": "code",
   "execution_count": null,
   "metadata": {},
   "outputs": [],
   "source": [
    "# Function to find a specific ref\n",
    "def find_result_df(ref_value):\n",
    "    # Filter the DataFrame for the specified ref\n",
    "    filtered_df = result_df[result_df['ref'] == ref_value]\n",
    "    return filtered_df\n",
    "\n",
    "# Example usage\n",
    "search_ref = '2005687710'  # Replace with the ref you want to find\n",
    "found_refs = find_result_df(search_ref)\n",
    "\n",
    "# Display the results\n",
    "if not found_refs.empty:\n",
    "    print(\"Found references:\")\n",
    "    print(found_refs)\n",
    "else:\n",
    "    print(f\"No references found for: {search_ref}\")"
   ]
  },
  {
   "cell_type": "code",
   "execution_count": null,
   "metadata": {},
   "outputs": [],
   "source": [
    "import pandas as pd\n",
    "from tqdm import tqdm\n",
    "\n",
    "def update_n_citation_id_based_on_ref_count_with_progress(result_df):\n",
    "    # Create a copy of the result DataFrame to track changes\n",
    "    updated_df = result_df.copy()\n",
    "\n",
    "    # Initialize a list to track changed IDs\n",
    "    changed_ids = []\n",
    "\n",
    "    # Count occurrences of each ref in the result DataFrame\n",
    "    ref_counts = updated_df['ref'].value_counts()\n",
    "\n",
    "    # Use tqdm to display progress while looping through each row in the updated DataFrame\n",
    "    for index, row in tqdm(updated_df.iterrows(), total=updated_df.shape[0], desc=\"Updating n_citation_id\"):\n",
    "        # Get the current ref\n",
    "        ref = row['ref']\n",
    "        \n",
    "        # Check if the ref exists in the ref_counts\n",
    "        if ref in ref_counts:\n",
    "            # Update n_citation_id with the count of that ref\n",
    "            updated_df.at[index, 'n_citation_id'] = ref_counts[ref]\n",
    "\n",
    "            # Add the ID to the changed list if it has been updated\n",
    "            if row['n_citation_id'] != ref_counts[ref]:\n",
    "                changed_ids.append(row['id'])\n",
    "\n",
    "    return updated_df, changed_ids\n",
    "\n",
    "# Example usage\n",
    "# final_result_df should already be defined with appropriate data\n",
    "final_result_df, updated_ids = update_n_citation_id_based_on_ref_count_with_progress(final_result_df)\n",
    "\n",
    "# Print the changed IDs7\n",
    "if updated_ids:\n",
    "    print(\"Updated n_citation_id for IDs:\", updated_ids)\n",
    "else:\n",
    "    print(\"No IDs were updated.\")\n"
   ]
  },
  {
   "cell_type": "code",
   "execution_count": null,
   "metadata": {},
   "outputs": [],
   "source": [
    "final_result_df"
   ]
  },
  {
   "cell_type": "code",
   "execution_count": null,
   "metadata": {},
   "outputs": [],
   "source": []
  },
  {
   "cell_type": "code",
   "execution_count": null,
   "metadata": {},
   "outputs": [],
   "source": [
    "# Find rows where n_citation = 0 and n_citation_id != 0\n",
    "dif_df = copy_result_df[(copy_result_df['n_citation_ref'] == 0) & (copy_result_df['n_citation_id'] != 0)]\n",
    "dif_df"
   ]
  },
  {
   "cell_type": "code",
   "execution_count": 244,
   "metadata": {},
   "outputs": [],
   "source": [
    "# Check for rows where n_citation = 0 and n_citation_id != 0\n",
    "condition = (copy_result_df['n_citation_ref'] == 0) & (copy_result_df['n_citation_id'] != 0)\n",
    "\n",
    "# Update n_citation where the condition is met\n",
    "copy_result_df.loc[condition, 'n_citation_ref'] = copy_result_df.loc[condition, 'n_citation_id']"
   ]
  },
  {
   "cell_type": "code",
   "execution_count": null,
   "metadata": {},
   "outputs": [],
   "source": [
    "copy_result_df"
   ]
  },
  {
   "cell_type": "code",
   "execution_count": 247,
   "metadata": {},
   "outputs": [],
   "source": [
    "# drop collumn n_citation_id from copy_result_df\n",
    "copy_result_df.drop('n_citation_id', axis=1, inplace=True)"
   ]
  },
  {
   "cell_type": "code",
   "execution_count": null,
   "metadata": {},
   "outputs": [],
   "source": [
    "copy_result_df"
   ]
  },
  {
   "cell_type": "code",
   "execution_count": 216,
   "metadata": {},
   "outputs": [],
   "source": [
    "copy_result_df.to_csv('update_nCitation.csv')"
   ]
  },
  {
   "cell_type": "code",
   "execution_count": 248,
   "metadata": {},
   "outputs": [],
   "source": [
    "def update_year_with_original_id(result_df, original_df):\n",
    "    # Create a temporary DataFrame for the original DataFrame containing id and year\n",
    "    year_df = original_df[['id', 'year']]\n",
    "\n",
    "    # Merge the original year data into the result DataFrame based on id\n",
    "    updated_df = result_df.merge(year_df, on='id', how='left', suffixes=('', '_original'))\n",
    "\n",
    "    # Update the year column in result_df with the year from original_df\n",
    "    updated_df['year'] = updated_df['year_original'].fillna(updated_df['year'])\n",
    "\n",
    "    # Drop the temporary year_original column\n",
    "    updated_df.drop(columns=['year_original'], inplace=True)\n",
    "\n",
    "    return updated_df\n",
    "\n",
    "# Example usage\n",
    "# final_result_df should already be defined with appropriate data\n",
    "final_final = update_year_with_original_id(copy_result_df, df)"
   ]
  },
  {
   "cell_type": "code",
   "execution_count": null,
   "metadata": {},
   "outputs": [],
   "source": [
    "final_final"
   ]
  },
  {
   "cell_type": "code",
   "execution_count": 250,
   "metadata": {},
   "outputs": [],
   "source": [
    "final_final.to_csv('final.csv')"
   ]
  },
  {
   "cell_type": "code",
   "execution_count": null,
   "metadata": {},
   "outputs": [],
   "source": [
    "# Function to calculate points based on the conditions\n",
    "def calculate_points(row):\n",
    "    if row['n_citation_ref'] > 0:\n",
    "        if row['year_ref'] == 0:  # If year is 0, calculate points as n_citation * 2\n",
    "            points = row['n_citation_ref'] * 10\n",
    "        else:  # If year is not 0, use the original calculation\n",
    "            points = (row['year_ref'] - 1800) * 10 + (row['n_citation_ref'] * 10)\n",
    "    else:  # No refs\n",
    "        points = row['n_citation_ref'] * 10\n",
    "    return points\n",
    "# Calculate points and create new column\n",
    "final_final['Point'] = final_final.apply(calculate_points, axis=1)\n",
    "final_final"
   ]
  },
  {
   "cell_type": "code",
   "execution_count": 252,
   "metadata": {},
   "outputs": [],
   "source": [
    "# Function to calculate the point\n",
    "def calculate_point(row):\n",
    "    if row['year_ref'] != 0:\n",
    "        return (row['year_ref'] - 1800) * 10 + row['n_citation_ref'] * 10 + row['n_citation'] * 2\n",
    "    else:\n",
    "        return row['n_citation_ref'] * 10 + row['n_citation'] * 2\n",
    "\n",
    "# Applying the function to calculate points\n",
    "final_final['Point'] = final_final.apply(calculate_point, axis=1)"
   ]
  },
  {
   "cell_type": "code",
   "execution_count": null,
   "metadata": {},
   "outputs": [],
   "source": [
    "#Counting the number of rows where Point equals 0\n",
    "count_point_zero = final_final[final_final['Point'] == 0].shape[0]\n",
    "\n",
    "# Display the result\n",
    "print(f\"Number of rows with Point = 0: {count_point_zero}\")"
   ]
  },
  {
   "cell_type": "code",
   "execution_count": null,
   "metadata": {},
   "outputs": [],
   "source": [
    "final_final['Point'].max()\n"
   ]
  }
 ],
 "metadata": {
  "kernelspec": {
   "display_name": "Python 3",
   "language": "python",
   "name": "python3"
  },
  "language_info": {
   "codemirror_mode": {
    "name": "ipython",
    "version": 3
   },
   "file_extension": ".py",
   "mimetype": "text/x-python",
   "name": "python",
   "nbconvert_exporter": "python",
   "pygments_lexer": "ipython3",
   "version": "3.11.2"
  }
 },
 "nbformat": 4,
 "nbformat_minor": 2
}

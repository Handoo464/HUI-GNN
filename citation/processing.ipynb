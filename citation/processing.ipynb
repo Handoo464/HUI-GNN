{
 "cells": [
  {
   "cell_type": "code",
   "execution_count": 26,
   "id": "3edc6cf6",
   "metadata": {},
   "outputs": [],
   "source": [
    "import matplotlib.pyplot as plt\n",
    "import numpy as np\n",
    "import pandas as pd\n",
    "pd.set_option('display.max_columns', None)\n",
    "from sklearn.preprocessing import StandardScaler\n",
    "\n",
    "import nltk\n",
    "# nltk.download('wordnet')\n",
    "#from nltk.stem import PorterStemmer, WordNetLemmatizer\n",
    "\n",
    "from sklearn.feature_extraction.text import TfidfVectorizer\n",
    "from sklearn.neighbors import KNeighborsRegressor\n",
    "from math import sqrt\n",
    "\n",
    "import re\n",
    "import string\n",
    "from sklearn.metrics.pairwise import cosine_similarity\n",
    "from sklearn.metrics import mean_squared_error\n",
    "\n",
    "from textblob import TextBlob\n",
    "from nltk.tokenize import word_tokenize, sent_tokenize\n"
   ]
  },
  {
   "cell_type": "code",
   "execution_count": 27,
   "id": "66310854",
   "metadata": {},
   "outputs": [
    {
     "name": "stderr",
     "output_type": "stream",
     "text": [
      "C:\\Users\\HP\\AppData\\Local\\Temp\\ipykernel_9712\\2257937258.py:1: DtypeWarning: Columns (0,3,5) have mixed types. Specify dtype option on import or set low_memory=False.\n",
      "  df_network = pd.read_csv('./citation_network.csv')\n"
     ]
    }
   ],
   "source": [
    "\n",
    "df_network = pd.read_csv('./citation_network.csv')\n",
    "df_ref = pd.read_csv('./point_delete_ref0.csv')\n"
   ]
  },
  {
   "cell_type": "code",
   "execution_count": 28,
   "id": "14775ba2",
   "metadata": {},
   "outputs": [],
   "source": [
    "# Ensure 'id' columns in both DataFrames have the same data type (convert to string)\n",
    "df_network['id'] = df_network['id'].astype(str)\n",
    "df_ref['id'] = df_ref['id'].astype(str)\n",
    "\n",
    "# Merge the DataFrames on 'id' and 'ref'\n",
    "df = pd.merge(df_ref, df_network[['id', 'title']], on='id', how='left')\n"
   ]
  },
  {
   "cell_type": "code",
   "execution_count": 29,
   "id": "e9572881",
   "metadata": {},
   "outputs": [],
   "source": [
    "# Function to clean text: remove special characters and convert to lowercase\n",
    "def clean_text(text):\n",
    "    if pd.isnull(text):  # Check for NaN values\n",
    "        return text\n",
    "    text = re.sub(r'\\W+', ' ', text)  # Remove special characters (non-word characters)\n",
    "    return text.lower()  # Convert to lowercase"
   ]
  },
  {
   "cell_type": "code",
   "execution_count": 30,
   "id": "67ef9a5b",
   "metadata": {},
   "outputs": [],
   "source": [
    "df['title'] = df['title'].apply(clean_text)"
   ]
  },
  {
   "cell_type": "code",
   "execution_count": 31,
   "id": "da493aef",
   "metadata": {},
   "outputs": [
    {
     "name": "stdout",
     "output_type": "stream",
     "text": [
      "      id                                              title\n",
      "0   1091  preliminary design of a network protocol learn...\n",
      "2   1674  a methodology for the physically accurate visu...\n",
      "17  1688  comparison of garch neural network and support...\n",
      "20  6522  improved secret image sharing method by encodi...\n",
      "24  8373  formal agent oriented ubiquitous computing a c...\n"
     ]
    }
   ],
   "source": [
    "df_unique = df[['id', 'title']].drop_duplicates(subset='id')\n",
    "\n",
    "# Check the first few rows to confirm the results\n",
    "print(df_unique.head())"
   ]
  },
  {
   "cell_type": "code",
   "execution_count": 32,
   "id": "2cf54c17",
   "metadata": {},
   "outputs": [],
   "source": [
    "\n",
    "df_unique.to_csv('items.csv', index=False)"
   ]
  }
 ],
 "metadata": {
  "kernelspec": {
   "display_name": "base",
   "language": "python",
   "name": "python3"
  },
  "language_info": {
   "codemirror_mode": {
    "name": "ipython",
    "version": 3
   },
   "file_extension": ".py",
   "mimetype": "text/x-python",
   "name": "python",
   "nbconvert_exporter": "python",
   "pygments_lexer": "ipython3",
   "version": "3.11.5"
  },
  "papermill": {
   "default_parameters": {},
   "duration": 17.852979,
   "end_time": "2022-02-20T12:53:08.832586",
   "environment_variables": {},
   "exception": null,
   "input_path": "__notebook__.ipynb",
   "output_path": "__notebook__.ipynb",
   "parameters": {},
   "start_time": "2022-02-20T12:52:50.979607",
   "version": "2.3.3"
  }
 },
 "nbformat": 4,
 "nbformat_minor": 5
}

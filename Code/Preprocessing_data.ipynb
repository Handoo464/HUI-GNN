{
 "cells": [
  {
   "cell_type": "code",
   "execution_count": 1,
   "id": "edb94936",
   "metadata": {
    "execution": {
     "iopub.execute_input": "2022-02-20T12:53:02.252272Z",
     "iopub.status.busy": "2022-02-20T12:53:02.250642Z",
     "iopub.status.idle": "2022-02-20T12:53:03.506635Z",
     "shell.execute_reply": "2022-02-20T12:53:03.508002Z",
     "shell.execute_reply.started": "2022-02-20T12:51:57.295108Z"
    },
    "papermill": {
     "duration": 1.323533,
     "end_time": "2022-02-20T12:53:03.508315",
     "exception": false,
     "start_time": "2022-02-20T12:53:02.184782",
     "status": "completed"
    },
    "tags": []
   },
   "outputs": [],
   "source": [
    "import matplotlib.pyplot as plt\n",
    "import numpy as np\n",
    "import pandas as pd\n",
    "pd.set_option('display.max_columns', None)\n",
    "import seaborn as sns\n",
    "from sklearn.preprocessing import StandardScaler"
   ]
  },
  {
   "cell_type": "code",
   "execution_count": 2,
   "id": "aeb22ce3",
   "metadata": {},
   "outputs": [],
   "source": [
    "df = pd.read_csv('./Online Retail.csv')\n"
   ]
  },
  {
   "cell_type": "code",
   "execution_count": 31,
   "id": "1a3e012b",
   "metadata": {},
   "outputs": [
    {
     "data": {
      "text/plain": [
       "InvoiceNo           0\n",
       "StockCode           0\n",
       "Description      1454\n",
       "Quantity            0\n",
       "InvoiceDate         0\n",
       "UnitPrice           0\n",
       "CustomerID     135080\n",
       "Country             0\n",
       "rate                0\n",
       "dtype: int64"
      ]
     },
     "execution_count": 31,
     "metadata": {},
     "output_type": "execute_result"
    }
   ],
   "source": [
    "\n",
    "null_counts = df.isnull().sum()\n",
    "null_counts\n"
   ]
  },
  {
   "cell_type": "code",
   "execution_count": 32,
   "id": "4d235434",
   "metadata": {},
   "outputs": [
    {
     "data": {
      "text/plain": [
       "25900"
      ]
     },
     "execution_count": 32,
     "metadata": {},
     "output_type": "execute_result"
    }
   ],
   "source": [
    "num_unique_values = df['InvoiceNo'].nunique()\n",
    "num_unique_values \n"
   ]
  },
  {
   "cell_type": "code",
   "execution_count": 3,
   "id": "a491ede9",
   "metadata": {},
   "outputs": [
    {
     "data": {
      "text/plain": [
       "541909"
      ]
     },
     "execution_count": 3,
     "metadata": {},
     "output_type": "execute_result"
    }
   ],
   "source": [
    "\n",
    "df.shape[0]\n"
   ]
  },
  {
   "cell_type": "code",
   "execution_count": 34,
   "id": "abef8806",
   "metadata": {},
   "outputs": [
    {
     "data": {
      "text/plain": [
       "532621"
      ]
     },
     "execution_count": 34,
     "metadata": {},
     "output_type": "execute_result"
    }
   ],
   "source": [
    "# Lọc bỏ các dòng có 'InvoiceNo' bắt đầu bằng chữ 'C', \n",
    "# do các đơnInvoiceNo: Số hóa đơn. Nominal, một số nguyên gồm 6 chữ số được gán duy nhất cho mỗi giao dịch.\n",
    "# Nếu mã này bắt đầu bằng chữ cái 'c', thì nó biểu thị một lệnh hủy.\n",
    "df = df[~df['InvoiceNo'].str.startswith('C')]\n",
    "df.shape[0]\n"
   ]
  },
  {
   "cell_type": "code",
   "execution_count": 35,
   "id": "802bab78",
   "metadata": {},
   "outputs": [
    {
     "data": {
      "text/plain": [
       "397924"
      ]
     },
     "execution_count": 35,
     "metadata": {},
     "output_type": "execute_result"
    }
   ],
   "source": [
    "# Loại bỏ các dòng có giá trị NaN trong cột 'price\n",
    "df = df.dropna(subset=['CustomerID'])\n",
    "df.shape[0]"
   ]
  },
  {
   "cell_type": "code",
   "execution_count": 36,
   "id": "85270f88",
   "metadata": {},
   "outputs": [
    {
     "data": {
      "text/plain": [
       "396503"
      ]
     },
     "execution_count": 36,
     "metadata": {},
     "output_type": "execute_result"
    }
   ],
   "source": [
    "# Giữ lại những hàng có `StockCode` chứa ít nhất một chữ số\n",
    "df = df[df['StockCode'].str.contains(r'\\d')]\n",
    "df.shape[0]\n"
   ]
  },
  {
   "cell_type": "code",
   "execution_count": 37,
   "id": "c08fd67f",
   "metadata": {},
   "outputs": [
    {
     "name": "stdout",
     "output_type": "stream",
     "text": [
      "  StockCode  stockCodeTransform\n",
      "0    85123A             8512311\n",
      "1     71053               71053\n",
      "2    84406B             8440612\n",
      "3    84029G             8402917\n",
      "4    84029E             8402915\n"
     ]
    }
   ],
   "source": [
    "def transform_stock_code(stock_code):\n",
    "    # Tách phần số và phần chữ cái\n",
    "    base_code = ''.join(filter(str.isdigit, stock_code))  # Lấy phần số\n",
    "    suffix = ''.join(filter(str.isalpha, stock_code))     # Lấy phần chữ\n",
    "\n",
    "    # Kiểm tra nếu có phần chữ cái (sẽ thêm 10 + thứ tự của chữ cái)\n",
    "    if suffix:\n",
    "        suffix_value = ord(suffix[0].upper()) - ord('A') + 1  # Đổi chữ cái đầu tiên thành số\n",
    "        return int(base_code) * 100 + 10 + suffix_value\n",
    "    else:\n",
    "        return int(base_code)\n",
    "\n",
    "# Tạo cột mới 'stockCodeTransform'\n",
    "df['stockCodeTransform'] = df['StockCode'].apply(transform_stock_code)\n",
    "\n",
    "# Kiểm tra kết quả\n",
    "print(df[['StockCode', 'stockCodeTransform']].head())\n"
   ]
  },
  {
   "cell_type": "code",
   "execution_count": 38,
   "id": "ea56a35f",
   "metadata": {},
   "outputs": [
    {
     "data": {
      "text/plain": [
       "InvoiceNo             0\n",
       "StockCode             0\n",
       "Description           0\n",
       "Quantity              0\n",
       "InvoiceDate           0\n",
       "UnitPrice             0\n",
       "CustomerID            0\n",
       "Country               0\n",
       "rate                  0\n",
       "stockCodeTransform    0\n",
       "dtype: int64"
      ]
     },
     "execution_count": 38,
     "metadata": {},
     "output_type": "execute_result"
    }
   ],
   "source": [
    "null_counts = df.isnull().sum()\n",
    "null_counts"
   ]
  },
  {
   "cell_type": "code",
   "execution_count": 39,
   "id": "8a3f386c",
   "metadata": {},
   "outputs": [
    {
     "data": {
      "text/plain": [
       "396503"
      ]
     },
     "execution_count": 39,
     "metadata": {},
     "output_type": "execute_result"
    }
   ],
   "source": [
    "df.shape[0]"
   ]
  },
  {
   "cell_type": "code",
   "execution_count": 40,
   "id": "ba50a1c4",
   "metadata": {},
   "outputs": [],
   "source": [
    "# Step 1: Add a 'Utility' column to the dataset and convert to integer\n",
    "df['Utility'] = (df['UnitPrice'] * df['Quantity'] * 100).astype(int)\n",
    "\n",
    "# Step 2: Define preprocessing functions\n",
    "def filter_large_transactions(df, item_count_threshold=100):\n",
    "    \"\"\"Remove transactions with more than the specified number of items.\"\"\"\n",
    "    item_counts = df.groupby('InvoiceNo').size()\n",
    "    valid_invoices = item_counts[item_counts <= item_count_threshold].index\n",
    "    return df[df['InvoiceNo'].isin(valid_invoices)]\n",
    "\n",
    "def filter_high_utility_items(df, utility_threshold=1000):\n",
    "    \"\"\"Remove items with utility greater than the threshold times the average utility.\"\"\"\n",
    "    avg_utility = df['Utility'].mean()\n",
    "    max_utility = avg_utility * utility_threshold\n",
    "    return df[df['Utility'] <= max_utility]\n",
    "\n",
    "# Step 3: Apply filters\n",
    "# Filter transactions with more than 100 items\n",
    "df = filter_large_transactions(df, item_count_threshold=100)\n",
    "\n",
    "# Filter items with utility values above the threshold\n",
    "df = filter_high_utility_items(df, utility_threshold=1000)"
   ]
  },
  {
   "cell_type": "code",
   "execution_count": 41,
   "id": "73d3601d",
   "metadata": {},
   "outputs": [
    {
     "data": {
      "text/plain": [
       "359939"
      ]
     },
     "execution_count": 41,
     "metadata": {},
     "output_type": "execute_result"
    }
   ],
   "source": [
    "df.shape[0]"
   ]
  },
  {
   "cell_type": "code",
   "execution_count": 42,
   "id": "0eff2322",
   "metadata": {},
   "outputs": [
    {
     "name": "stdout",
     "output_type": "stream",
     "text": [
      "Đã lưu kết quả vào file 'items.csv'\n"
     ]
    }
   ],
   "source": [
    "# Lấy danh sách duy nhất các item dựa trên 'stockCodeTransform'\n",
    "items = df[['stockCodeTransform', 'StockCode', 'Description', 'UnitPrice', 'Quantity']]\n",
    "\n",
    "# Tính giá trung bình cho mỗi 'stockCodeTransform' và làm tròn đến 2 chữ số thập phân\n",
    "items_avg_price = (\n",
    "    items.groupby(['stockCodeTransform', 'StockCode', 'Description'])\n",
    "    .agg({'UnitPrice': 'mean', 'Quantity': 'mean'})  # Thêm tính trung bình cho Quantity\n",
    "    .reset_index()\n",
    ")\n",
    "\n",
    "# Làm tròn giá trung bình của UnitPrice đến 2 chữ số thập phân\n",
    "items_avg_price['UnitPrice'] = items_avg_price['UnitPrice'].round(2)\n",
    "items_avg_price['Quantity'] = items_avg_price['Quantity'].round().astype(int)  # Làm tròn Quantity về số nguyên\n",
    "\n",
    "# Giữ lại duy nhất theo 'stockCodeTransform'\n",
    "# Nếu có nhiều dòng tương ứng cho cùng một 'stockCodeTransform', giữ dòng đầu tiên\n",
    "items = items_avg_price.drop_duplicates(subset='stockCodeTransform').reset_index(drop=True)\n",
    "\n",
    "# Thêm một cột 'Index' với thứ tự tăng dần bắt đầu từ 1\n",
    "items['Index'] = range(1, len(items) + 1)\n",
    "\n",
    "# Lưu vào tệp CSV\n",
    "items.to_csv('items.csv', index=False)\n",
    "\n",
    "print(\"Đã lưu kết quả vào file 'items.csv'\")\n"
   ]
  },
  {
   "cell_type": "code",
   "execution_count": 43,
   "id": "01204dc9",
   "metadata": {},
   "outputs": [],
   "source": [
    "# Lấy danh sách duy nhất các itemName và feature\n",
    "users = df[['CustomerID']].drop_duplicates().reset_index(drop=True)\n",
    "\n",
    "# Chọn cột cần thiết\n",
    "users = users[['CustomerID']]\n",
    "\n",
    "# Sắp xếp theo thứ tự tăng dần của cột 'CustomerID'\n",
    "users = users.sort_values(by='CustomerID').reset_index(drop=True)\n",
    "\n",
    "# Thêm một cột 'Index' với thứ tự tăng dần bắt đầu từ 1\n",
    "users['Index'] = range(1, len(users) + 1)\n",
    "\n",
    "# Lưu vào tệp CSV sau khi sắp xếp và thêm cột thứ tự\n",
    "users.to_csv('users.csv', index=False)\n"
   ]
  },
  {
   "cell_type": "code",
   "execution_count": 44,
   "id": "cdb5bf62",
   "metadata": {},
   "outputs": [],
   "source": [
    "# Chọn các cột cần thiết\n",
    "ratings = df[['CustomerID', 'stockCodeTransform', 'rate']]\n",
    "\n",
    "# Lưu dữ liệuvào tệp 'ratings.csv'\n",
    "ratings.to_csv('ratings.csv', index=False)\n",
    "\n",
    "# Sắp xếp theo thứ tự tăng dần của cột 'CustomerID'\n",
    "ratings = ratings.sort_values(by='CustomerID').reset_index(drop=True)\n",
    "\n",
    "\n",
    "# Tạo một dictionary để ánh xạ 'CustomerID' sang 'Index' trong file 'users.csv'\n",
    "user_mapping = dict(zip(users['CustomerID'], users['Index']))\n",
    "\n",
    "# Tạo một dictionary để ánh xạ 'StockCode' sang 'Index' trong file 'items.csv'\n",
    "item_mapping = dict(zip(items['stockCodeTransform'], items['Index']))\n",
    "\n",
    "# Thay thế 'CustomerID' bằng 'Index' trong ratings\n",
    "ratings['CustomerID'] = ratings['CustomerID'].map(user_mapping)\n",
    "\n",
    "# Thay thế 'stockCodeTransform' bằng 'Index' trong ratings\n",
    "ratings['stockCodeTransform'] = ratings['stockCodeTransform'].map(item_mapping)\n",
    "\n",
    "# Lưu dữ liệu vào tệp 'ratings.csv' sau khi thay thế\n",
    "ratings.to_csv('ratings.csv', index=False)\n",
    "\n"
   ]
  },
  {
   "cell_type": "code",
   "execution_count": 45,
   "id": "94c15d94",
   "metadata": {},
   "outputs": [],
   "source": [
    "# Lưu vào tệp CSV\n",
    "df.to_csv('final_clean.csv', index=False)"
   ]
  },
  {
   "cell_type": "code",
   "execution_count": 46,
   "id": "e19a66e6",
   "metadata": {},
   "outputs": [
    {
     "data": {
      "text/plain": [
       "359939"
      ]
     },
     "execution_count": 46,
     "metadata": {},
     "output_type": "execute_result"
    }
   ],
   "source": [
    "df.shape[0]"
   ]
  },
  {
   "cell_type": "code",
   "execution_count": 47,
   "id": "86a236f4",
   "metadata": {},
   "outputs": [
    {
     "data": {
      "text/plain": [
       "18160"
      ]
     },
     "execution_count": 47,
     "metadata": {},
     "output_type": "execute_result"
    }
   ],
   "source": [
    "num_unique_values = df['InvoiceNo'].nunique()\n",
    "num_unique_values "
   ]
  },
  {
   "cell_type": "code",
   "execution_count": 48,
   "id": "091c8f8b",
   "metadata": {},
   "outputs": [
    {
     "data": {
      "text/plain": [
       "359939"
      ]
     },
     "execution_count": 48,
     "metadata": {},
     "output_type": "execute_result"
    }
   ],
   "source": [
    "df.shape[0]"
   ]
  },
  {
   "cell_type": "code",
   "execution_count": 49,
   "id": "41def62b",
   "metadata": {},
   "outputs": [
    {
     "data": {
      "text/plain": [
       "'final_transactions.txt'"
      ]
     },
     "execution_count": 49,
     "metadata": {},
     "output_type": "execute_result"
    }
   ],
   "source": [
    "# Nhóm dữ liệu theo Invoice, tạo danh sách các StockCode, tổng utility và danh sách utility cho mỗi Invoice\n",
    "grouped_data = df.groupby('InvoiceNo').apply(\n",
    "    lambda x: {\n",
    "        'itemids': ' '.join(map(str, x['stockCodeTransform'])),\n",
    "        'total_utility': int(x['Utility'].sum()),\n",
    "        'utilities': ' '.join(map(str, x['Utility'].astype(int)))\n",
    "    }\n",
    ").apply(pd.Series)\n",
    "\n",
    "# Định dạng đầu ra theo yêu cầu\n",
    "formatted_data = grouped_data.apply(\n",
    "    lambda row: f\"{row['itemids']}:{row['total_utility']}:{row['utilities']}\", axis=1\n",
    ")\n",
    "\n",
    "# Lưu kết quả vào file 'final_transactions.txt'\n",
    "output_path = 'final_transactions.txt'\n",
    "formatted_data.to_csv(output_path, index=False, header=False)\n",
    "\n",
    "output_path\n"
   ]
  },
  {
   "cell_type": "code",
   "execution_count": 50,
   "id": "a08b5a55",
   "metadata": {},
   "outputs": [
    {
     "data": {
      "text/plain": [
       "18160"
      ]
     },
     "execution_count": 50,
     "metadata": {},
     "output_type": "execute_result"
    }
   ],
   "source": [
    "num_unique_values = df['InvoiceNo'].nunique()\n",
    "num_unique_values "
   ]
  }
 ],
 "metadata": {
  "kernelspec": {
   "display_name": "base",
   "language": "python",
   "name": "python3"
  },
  "language_info": {
   "codemirror_mode": {
    "name": "ipython",
    "version": 3
   },
   "file_extension": ".py",
   "mimetype": "text/x-python",
   "name": "python",
   "nbconvert_exporter": "python",
   "pygments_lexer": "ipython3",
   "version": "3.11.5"
  },
  "papermill": {
   "default_parameters": {},
   "duration": 17.852979,
   "end_time": "2022-02-20T12:53:08.832586",
   "environment_variables": {},
   "exception": null,
   "input_path": "__notebook__.ipynb",
   "output_path": "__notebook__.ipynb",
   "parameters": {},
   "start_time": "2022-02-20T12:52:50.979607",
   "version": "2.3.3"
  }
 },
 "nbformat": 4,
 "nbformat_minor": 5
}

{
 "cells": [
  {
   "cell_type": "code",
   "execution_count": null,
   "metadata": {},
   "outputs": [],
   "source": [
    "import numpy as np\n",
    "import pandas as pd\n",
    "import torch\n",
    "import torch.nn as nn\n",
    "import torch.optim as optim\n",
    "from sklearn.model_selection import train_test_split\n",
    "from sklearn.preprocessing import LabelEncoder, MinMaxScaler\n",
    "from sklearn.metrics import precision_score, recall_score\n",
    "from torch_geometric.data import Data\n",
    "from torch_geometric.nn import GATConv\n",
    "import torch_geometric.transforms as T\n",
    "from torch.optim import Adam\n",
    "from torch.optim.lr_scheduler import StepLR\n",
    "from tqdm import tqdm\n",
    "\n",
    "df = pd.read_csv(\"final_clean.csv\")\n"
   ]
  },
  {
   "cell_type": "code",
   "execution_count": null,
   "metadata": {},
   "outputs": [],
   "source": [
    "\n",
    "le_country = LabelEncoder()\n",
    "le_stock = LabelEncoder()\n",
    "df[\"Country\"] = le_country.fit_transform(df[\"Country\"])\n",
    "df[\"StockCode\"] = le_stock.fit_transform(df[\"StockCode\"])\n",
    "\n",
    "\n",
    "scaler = MinMaxScaler()\n",
    "df[[\"UnitPrice\", \"Utility\", \"rate\"]] = scaler.fit_transform(df[[\"UnitPrice\", \"Utility\", \"rate\"]])\n",
    "\n",
    "# Tạo customer_features và product_features\n",
    "customer_features = df.groupby(\"CustomerID\").agg(\n",
    "    {\n",
    "        \"Country\": \"mean\",\n",
    "        \"rate\": \"mean\",\n",
    "    }\n",
    ").reset_index()\n",
    "customer_features_tensor = torch.tensor(customer_features.iloc[:, 1:].values, dtype=torch.float)\n",
    "\n",
    "product_features = df.groupby(\"StockCode\").agg(\n",
    "    {\n",
    "        \"UnitPrice\": \"mean\",\n",
    "        \"Utility\": \"mean\",\n",
    "    }\n",
    ").reset_index()\n",
    "product_features_tensor = torch.tensor(product_features.iloc[:, 1:].values, dtype=torch.float)\n",
    "\n",
    "# Tạo edges (khách hàng - sản phẩm)\n",
    "customer_ids = {cid: idx for idx, cid in enumerate(customer_features[\"CustomerID\"].values)}\n",
    "product_ids = {pid: idx + len(customer_ids) for idx, pid in enumerate(product_features[\"StockCode\"].values)}\n"
   ]
  },
  {
   "cell_type": "code",
   "execution_count": 8,
   "metadata": {},
   "outputs": [
    {
     "name": "stdout",
     "output_type": "stream",
     "text": [
      "          CustomerID  stockCodeTransform  Label\n",
      "0            17850.0             8512311      1\n",
      "1            17850.0               71053      1\n",
      "2            17850.0             8440612      1\n",
      "3            17850.0             8402917      1\n",
      "4            17850.0             8402915      1\n",
      "...              ...                 ...    ...\n",
      "15704299     12713.0             9021433      0\n",
      "15704300     12713.0             9021436      0\n",
      "15704301     12713.0               90083      0\n",
      "15704302     12713.0               90089      0\n",
      "15704303     12713.0               72783      0\n",
      "\n",
      "[15704304 rows x 3 columns]\n"
     ]
    }
   ],
   "source": [
    "# Dữ liệu mô phỏng về danh sách khách hàng và sản phẩm để tạo nhãn\n",
    "customers = df['CustomerID'].unique()\n",
    "products = df['stockCodeTransform'].unique()\n",
    "\n",
    "# Tạo danh sách tất cả các kết hợp (CustomerID, StockCode)\n",
    "customer_product_combinations = [(customer, product) for customer in customers for product in products]\n",
    "\n",
    "# Tạo một dictionary để xác định xem khách hàng có mua sản phẩm này không\n",
    "purchase_dict = {(row['CustomerID'], row['stockCodeTransform']): 1 for _, row in df.iterrows()}\n",
    "\n",
    "# Tạo nhãn cho mỗi cặp (CustomerID, StockCode)\n",
    "labels = []\n",
    "for combination in customer_product_combinations:\n",
    "    # Nếu cặp (CustomerID, StockCode) có trong purchase_dict thì gán nhãn = 1, ngược lại = 0\n",
    "    label = purchase_dict.get(combination, 0)\n",
    "    labels.append(label)\n",
    "\n",
    "# Chuyển labels thành DataFrame để kiểm tra kết quả\n",
    "labels_df = pd.DataFrame(customer_product_combinations, columns=[\"CustomerID\", \"stockCodeTransform\"])\n",
    "labels_df[\"Label\"] = labels\n",
    "\n",
    "# Kết quả\n",
    "print(labels_df)"
   ]
  },
  {
   "cell_type": "code",
   "execution_count": 11,
   "metadata": {},
   "outputs": [
    {
     "name": "stderr",
     "output_type": "stream",
     "text": [
      "Processing customers: 100%|██████████| 4312/4312 [51:34<00:00,  1.39it/s]  \n"
     ]
    },
    {
     "name": "stdout",
     "output_type": "stream",
     "text": [
      "X shape: (15704304, 4)\n",
      "Y shape: (15704304,)\n"
     ]
    }
   ],
   "source": [
    "import pandas as pd\n",
    "import numpy as np\n",
    "from sklearn.preprocessing import LabelEncoder, MinMaxScaler\n",
    "from tqdm import tqdm  # Import tqdm để theo dõi tiến trình\n",
    "\n",
    "# Tiền xử lý: Mã hóa và chuẩn hóa\n",
    "le_country = LabelEncoder()\n",
    "df[\"Country\"] = le_country.fit_transform(df[\"Country\"])\n",
    "\n",
    "# Chuẩn hóa các cột liên quan đến sản phẩm\n",
    "scaler = MinMaxScaler()\n",
    "df[[\"UnitPrice\", \"Utility\", \"rate\"]] = scaler.fit_transform(df[[\"UnitPrice\", \"Utility\", \"rate\"]])\n",
    "\n",
    "# Tạo các đặc trưng cho khách hàng (Customer Features)\n",
    "customer_features = df.groupby(\"CustomerID\").agg(\n",
    "    {\n",
    "        \"Country\": \"mean\",\n",
    "        \"rate\": \"mean\",\n",
    "    }\n",
    ").reset_index()\n",
    "customer_features_tensor = customer_features.iloc[:, 1:].values\n",
    "\n",
    "# Tạo các đặc trưng cho sản phẩm (Product Features)\n",
    "product_features = df.groupby(\"stockCodeTransform\").agg(\n",
    "    {\n",
    "        \"UnitPrice\": \"mean\",\n",
    "        \"Utility\": \"mean\",\n",
    "    }\n",
    ").reset_index()\n",
    "product_features_tensor = product_features.iloc[:, 1:].values\n",
    "\n",
    "# Tạo danh sách tất cả các kết hợp (CustomerID, StockCode)\n",
    "customers = df['CustomerID'].unique()\n",
    "products = df['stockCodeTransform'].unique()\n",
    "\n",
    "# Tạo một dictionary để xác định xem khách hàng có mua sản phẩm này không\n",
    "purchase_dict = {(row['CustomerID'], row['stockCodeTransform']): 1 for _, row in df.iterrows()}\n",
    "\n",
    "# Tạo đặc trưng cho các kết hợp (CustomerID, StockCode)\n",
    "x1 = []\n",
    "y1 = []\n",
    "\n",
    "# Sử dụng tqdm để theo dõi tiến trình\n",
    "for customer in tqdm(customers, desc=\"Processing customers\"):\n",
    "    for product in products:\n",
    "        # Lấy đặc trưng của khách hàng và sản phẩm\n",
    "        customer_feature = customer_features_tensor[customer_features[\"CustomerID\"] == customer][0]\n",
    "        product_feature = product_features_tensor[product_features[\"stockCodeTransform\"] == product][0]\n",
    "        \n",
    "        # Ghép đặc trưng của khách hàng và sản phẩm thành một vector\n",
    "        combined_feature = list(customer_feature) + list(product_feature)\n",
    "        x1.append(combined_feature)\n",
    "        \n",
    "        # Gán nhãn: Nếu cặp (customer, product) có trong purchase_dict thì gán nhãn = 1, ngược lại = 0\n",
    "        label = purchase_dict.get((customer, product), 0)\n",
    "        y1.append(label)\n",
    "\n",
    "# Chuyển x và y thành mảng NumPy\n",
    "x1 = np.array(x1)\n",
    "y1 = np.array(y1)\n",
    "\n",
    "# In ra kích thước của x và y để kiểm tra\n",
    "print(\"X shape:\", x1.shape)\n",
    "print(\"Y shape:\", y1.shape)\n"
   ]
  },
  {
   "cell_type": "code",
   "execution_count": 28,
   "metadata": {},
   "outputs": [
    {
     "data": {
      "text/plain": [
       "array([1, 1, 1, ..., 0, 0, 0])"
      ]
     },
     "execution_count": 28,
     "metadata": {},
     "output_type": "execute_result"
    }
   ],
   "source": [
    "y1"
   ]
  },
  {
   "cell_type": "code",
   "execution_count": 12,
   "metadata": {},
   "outputs": [],
   "source": [
    "# Chuyển nhãn từ labels_df thành tensor của PyTorch\n",
    "y_tensor = torch.tensor(labels_df[\"Label\"].values, dtype=torch.long)\n",
    "# Chuyển x1 và labels thành tensor của PyTorch\n",
    "x1_tensor = torch.tensor(x1, dtype=torch.float)"
   ]
  },
  {
   "cell_type": "code",
   "execution_count": 20,
   "metadata": {},
   "outputs": [],
   "source": [
    "\n",
    "# Hàm load dữ liệu từ file và trả về product_weights\n",
    "def load_product_pairs(filename):\n",
    "    product_weights = {}\n",
    "    with open(filename, 'r') as file:\n",
    "        for line in file:\n",
    "            if '#UTIL:' not in line:\n",
    "                continue\n",
    "            parts = line.strip().split('  #UTIL:')\n",
    "            try:\n",
    "                products = list(map(int, parts[0].split()))\n",
    "                weight = int(parts[1])\n",
    "            except ValueError:\n",
    "                continue\n",
    "            \n",
    "            for i in range(len(products)):\n",
    "                for j in range(i + 1, len(products)):\n",
    "                    p1, p2 = sorted([products[i], products[j]])\n",
    "                    if (p1, p2) not in product_weights:\n",
    "                        product_weights[(p1, p2)] = 0\n",
    "                    product_weights[(p1, p2)] += weight\n",
    "    return product_weights\n",
    "# Đọc dữ liệu và tạo đồ thị\n",
    "product_weights = load_product_pairs('test.txt')\n"
   ]
  },
  {
   "cell_type": "code",
   "execution_count": 21,
   "metadata": {},
   "outputs": [],
   "source": [
    "# Tạo danh sách các cạnh và trọng số\n",
    "edges = []\n",
    "edge_attr = []  # Trọng số cho các cạnh\n",
    "customer_nodes = len(customers)  # Số lượng customer nodes\n",
    "# Duyệt qua các kết hợp (CustomerID, StockCode)\n",
    "for i, combination in enumerate(customer_product_combinations):\n",
    "    customer_id, stock_code = combination\n",
    "    # Nếu khách hàng đã mua sản phẩm này, trọng số = 1, nếu không, trọng số = 0\n",
    "    weight = 1 if (customer_id, stock_code) in purchase_dict else 0\n",
    "    edges.append((customer_id, stock_code))\n",
    "    edge_attr.append(weight)\n",
    "\n",
    "# Chuẩn hóa trọng số sản phẩm nếu có mối quan hệ giữa các sản phẩm\n",
    "if product_weights:\n",
    "    # Tạo danh sách các trọng số trước khi chuẩn hóa\n",
    "    raw_weights = list(product_weights.values())\n",
    "\n",
    "    # Chuẩn hóa trọng số sản phẩm về khoảng [0, 1]\n",
    "    scaler = MinMaxScaler(feature_range=(0, 1))\n",
    "    scaled_weights = scaler.fit_transform(np.array(raw_weights).reshape(-1, 1)).flatten()\n",
    "\n",
    "    # Tạo các cạnh giữa các sản phẩm và thêm trọng số\n",
    "    idx = 0\n",
    "    for (p1, p2), weight in product_weights.items():\n",
    "        if p1 in product_features[\"stockCodeTransform\"].values and p2 in product_features[\"stockCodeTransform\"].values:\n",
    "            # Lấy chỉ số của sản phẩm trong danh sách sản phẩm\n",
    "            p1_idx = list(product_features[\"stockCodeTransform\"]).index(p1)\n",
    "            p2_idx = list(product_features[\"stockCodeTransform\"]).index(p2)\n",
    "            \n",
    "            # Tạo các cạnh giữa các sản phẩm và thêm trọng số đã chuẩn hóa\n",
    "            edges.append([customer_nodes + p1_idx, customer_nodes + p2_idx])\n",
    "            edge_attr.append(scaled_weights[idx])  # Trọng số đã chuẩn hóa\n",
    "            edges.append([customer_nodes + p2_idx, customer_nodes + p1_idx])\n",
    "            edge_attr.append(scaled_weights[idx])  # Trọng số cho cạnh ngược lại\n",
    "            idx += 1\n",
    "\n",
    "# Chuyển edges thành tensor và edge_attr thành tensor\n",
    "edge_index = torch.tensor(edges, dtype=torch.long).t().contiguous()\n",
    "edge_attr = torch.tensor(edge_attr, dtype=torch.float)\n"
   ]
  },
  {
   "cell_type": "code",
   "execution_count": 22,
   "metadata": {},
   "outputs": [
    {
     "name": "stdout",
     "output_type": "stream",
     "text": [
      "Data(x=[15704304, 4], edge_index=[2, 15705164], edge_attr=[15705164], y=[15704304])\n"
     ]
    }
   ],
   "source": [
    "# Tạo đối tượng Data của PyTorch Geometric\n",
    "data = Data(x=x1_tensor, edge_index=edge_index, edge_attr=edge_attr, y=y_tensor)\n",
    "\n",
    "# Kiểm tra cấu trúc dữ liệu\n",
    "print(data)"
   ]
  },
  {
   "cell_type": "code",
   "execution_count": 25,
   "metadata": {},
   "outputs": [],
   "source": [
    "# Lưu đối tượng data vào file\n",
    "torch.save(data, 'graph_data.pt')\n"
   ]
  },
  {
   "cell_type": "code",
   "execution_count": 26,
   "metadata": {},
   "outputs": [
    {
     "name": "stderr",
     "output_type": "stream",
     "text": [
      "C:\\Users\\ngchn\\AppData\\Local\\Temp\\ipykernel_20012\\1083567147.py:2: FutureWarning: You are using `torch.load` with `weights_only=False` (the current default value), which uses the default pickle module implicitly. It is possible to construct malicious pickle data which will execute arbitrary code during unpickling (See https://github.com/pytorch/pytorch/blob/main/SECURITY.md#untrusted-models for more details). In a future release, the default value for `weights_only` will be flipped to `True`. This limits the functions that could be executed during unpickling. Arbitrary objects will no longer be allowed to be loaded via this mode unless they are explicitly allowlisted by the user via `torch.serialization.add_safe_globals`. We recommend you start setting `weights_only=True` for any use case where you don't have full control of the loaded file. Please open an issue on GitHub for any issues related to this experimental feature.\n",
      "  loaded_data = torch.load('graph_data.pt')\n"
     ]
    },
    {
     "name": "stdout",
     "output_type": "stream",
     "text": [
      "Data(x=[15704304, 4], edge_index=[2, 15705164], edge_attr=[15705164], y=[15704304])\n"
     ]
    }
   ],
   "source": [
    "# Tải lại đối tượng data từ file\n",
    "loaded_data = torch.load('graph_data.pt')\n",
    "\n",
    "# Kiểm tra nội dung của loaded_data\n",
    "print(loaded_data)\n"
   ]
  }
 ],
 "metadata": {
  "kernelspec": {
   "display_name": "Python 3",
   "language": "python",
   "name": "python3"
  },
  "language_info": {
   "codemirror_mode": {
    "name": "ipython",
    "version": 3
   },
   "file_extension": ".py",
   "mimetype": "text/x-python",
   "name": "python",
   "nbconvert_exporter": "python",
   "pygments_lexer": "ipython3",
   "version": "3.11.2"
  }
 },
 "nbformat": 4,
 "nbformat_minor": 2
}

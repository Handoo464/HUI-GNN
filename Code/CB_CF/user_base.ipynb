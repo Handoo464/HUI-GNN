{
 "cells": [
  {
   "cell_type": "code",
   "execution_count": 1,
   "metadata": {},
   "outputs": [
    {
     "name": "stdout",
     "output_type": "stream",
     "text": [
      "Computing the cosine similarity matrix...\n",
      "Done computing similarity matrix.\n",
      "RMSE: 0.8714\n",
      "RMSE: 0.9608\n"
     ]
    }
   ],
   "source": [
    "import numpy as np\n",
    "import pandas as pd\n",
    "from surprise import Dataset, Reader, KNNWithMeans\n",
    "from surprise import accuracy\n",
    "from surprise.model_selection import train_test_split\n",
    "import pickle\n",
    "\n",
    "# Đọc dữ liệu từ file ratings.csv\n",
    "ratings = pd.read_csv('ratings.csv')\n",
    "\n",
    "# Chuyển cột CustomerID thành chuỗi để tránh lỗi khi xử lý\n",
    "ratings['CustomerID'] = ratings['CustomerID'].astype(str)\n",
    "\n",
    "# Chuẩn hóa dữ liệu với Surprise Reader\n",
    "reader = Reader(line_format='user item rating', sep=',')\n",
    "data = Dataset.load_from_df(ratings[['CustomerID', 'stockCodeTransform', 'rate']], reader)\n",
    "\n",
    "# Lớp User-Based Collaborative Filtering\n",
    "class UserBasedWithTopItems(KNNWithMeans):\n",
    "    def __init__(self, sim_options={'name': 'cosine', 'user_based': True}, *args, **kwargs):\n",
    "        super().__init__(sim_options=sim_options, *args, **kwargs)\n",
    "\n",
    "    def get_anti_test_set_for_user(self, user_id):\n",
    "        fill = self.trainset.global_mean\n",
    "        anti_testset = []\n",
    "        u = self.trainset.to_inner_uid(user_id)\n",
    "        user_items = set([j for (j, _) in self.trainset.ur[u]])\n",
    "        anti_testset += [(self.trainset.to_raw_uid(u), self.trainset.to_raw_iid(i), fill) \n",
    "                         for i in self.trainset.all_items() if i not in user_items]\n",
    "        return anti_testset\n",
    "\n",
    "    def get_top_items(self, user_id, k=10):\n",
    "        testSet = self.get_anti_test_set_for_user(user_id)\n",
    "        predictions = self.test(testSet)\n",
    "\n",
    "        recommendations = []\n",
    "        for _, itemID, _, estimatedRating, _ in predictions:\n",
    "            recommendations.append((itemID, estimatedRating))\n",
    "        recommendations.sort(key=lambda x: x[1], reverse=True)\n",
    "        return recommendations[:k]\n",
    "\n",
    "# Chia dữ liệu thành tập huấn luyện và kiểm tra (80% train, 20% test)\n",
    "trainset, testset = train_test_split(data, test_size=0.2, random_state=42)\n",
    "\n",
    "# Tạo đối tượng từ lớp UserBasedWithTopItems\n",
    "model = UserBasedWithTopItems()\n",
    "\n",
    "# Huấn luyện mô hình trên tập huấn luyện\n",
    "model.fit(trainset)\n",
    "\n",
    "# Dự đoán trên tập huấn luyện\n",
    "train_predictions = model.test(trainset.build_testset())\n",
    "\n",
    "# Tính RMSE trên tập huấn luyện\n",
    "rmse_train = accuracy.rmse(train_predictions)\n",
    "\n",
    "# Dự đoán trên tập kiểm tra\n",
    "predictions = model.test(testset)\n",
    "\n",
    "# Tính RMSE trên tập kiểm tra\n",
    "rmse_test = accuracy.rmse(predictions)\n"
   ]
  },
  {
   "cell_type": "code",
   "execution_count": 2,
   "metadata": {},
   "outputs": [],
   "source": [
    "\n",
    "# Lưu mô hình vào tệp\n",
    "with open('item_based_model.pkl', 'wb') as file:\n",
    "    pickle.dump(model, file)\n",
    "\n",
    "# Tải mô hình đã lưu\n",
    "with open('item_based_model.pkl', 'rb') as file:\n",
    "    model = pickle.load(file)\n"
   ]
  },
  {
   "cell_type": "code",
   "execution_count": 3,
   "metadata": {},
   "outputs": [],
   "source": [
    "# Tạo tập dữ liệu đầy đủ \n",
    "full_data = data.build_full_trainset()"
   ]
  },
  {
   "cell_type": "code",
   "execution_count": 4,
   "metadata": {},
   "outputs": [],
   "source": [
    "\n",
    "\n",
    "# Tạo danh sách người dùng và sản phẩm\n",
    "user_ids = [full_data.to_raw_uid(u) for u in range(full_data.n_users)]  # Lấy danh sách tất cả người dùng\n",
    "item_ids = [full_data.to_raw_iid(i) for i in range(full_data.n_items)]  # Lấy danh sách tất cả sản phẩm\n",
    "\n",
    "# Tạo ma trận Yhat với đúng thứ tự: hàng là sản phẩm, cột là người dùng\n",
    "Yhat = np.zeros((len(item_ids), len(user_ids)))  # Khởi tạo ma trận dự đoán\n",
    "\n",
    "# Điền giá trị dự đoán vào ma trận\n",
    "for item_idx, item_id in enumerate(item_ids):  # Sản phẩm làm hàng\n",
    "    for user_idx, user_id in enumerate(user_ids):  # Người dùng làm cột\n",
    "        est = model.predict(user_id, item_id).est\n",
    "        Yhat[item_idx, user_idx] = est\n",
    "\n",
    "# Làm tròn giá trị đến chữ số thập phân thứ nhất\n",
    "Yhat = np.round(Yhat, 1)"
   ]
  },
  {
   "cell_type": "code",
   "execution_count": 5,
   "metadata": {},
   "outputs": [
    {
     "name": "stdout",
     "output_type": "stream",
     "text": [
      "[[4.7 4.9 4.3 ... 4.  1.9 5. ]\n",
      " [4.2 4.5 3.8 ... 3.1 1.6 4.5]\n",
      " [5.  5.  4.4 ... 4.3 2.  4.9]\n",
      " ...\n",
      " [4.5 4.6 4.9 ... 3.9 2.8 4.7]\n",
      " [3.5 3.7 3.  ... 3.9 1.  3.7]\n",
      " [4.2 4.4 4.  ... 3.6 1.6 4.4]]\n"
     ]
    },
    {
     "data": {
      "text/plain": [
       "3642"
      ]
     },
     "execution_count": 5,
     "metadata": {},
     "output_type": "execute_result"
    }
   ],
   "source": [
    "# Lưu ma trận Yhat vào file numpy\n",
    "np.save('Yhat_UB.npy', Yhat)\n",
    "\n",
    "# Để tải lại ma trận Yhat sau này\n",
    "Yhat_loaded = np.load('Yhat_UB.npy')\n",
    "print(Yhat_loaded)\n",
    "Yhat_loaded.shape[0]"
   ]
  }
 ],
 "metadata": {
  "kernelspec": {
   "display_name": "base",
   "language": "python",
   "name": "python3"
  },
  "language_info": {
   "codemirror_mode": {
    "name": "ipython",
    "version": 3
   },
   "file_extension": ".py",
   "mimetype": "text/x-python",
   "name": "python",
   "nbconvert_exporter": "python",
   "pygments_lexer": "ipython3",
   "version": "3.11.5"
  }
 },
 "nbformat": 4,
 "nbformat_minor": 2
}

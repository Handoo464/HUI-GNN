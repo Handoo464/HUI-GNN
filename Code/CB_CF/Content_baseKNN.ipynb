{
 "cells": [
  {
   "cell_type": "code",
   "execution_count": 1,
   "id": "3edc6cf6",
   "metadata": {},
   "outputs": [],
   "source": [
    "import re\n",
    "import string\n",
    "from math import sqrt\n",
    "import pickle\n",
    "import time\n",
    "\n",
    "import numpy as np\n",
    "import pandas as pd\n",
    "from sklearn.model_selection import train_test_split\n",
    "from sklearn.feature_extraction.text import TfidfVectorizer\n",
    "from sklearn.neighbors import KNeighborsRegressor\n",
    "from sklearn.metrics.pairwise import cosine_similarity\n",
    "from sklearn.metrics import mean_squared_error"
   ]
  },
  {
   "cell_type": "code",
   "execution_count": 2,
   "id": "66310854",
   "metadata": {},
   "outputs": [],
   "source": [
    "# Đọc dữ liệu\n",
    "items_df = pd.read_csv('./items.csv')\n",
    "ratings_df = pd.read_csv('./ratings.csv')\n",
    "users_df = pd.read_csv('./users.csv')"
   ]
  },
  {
   "cell_type": "code",
   "execution_count": 3,
   "id": "3ba75bf2",
   "metadata": {},
   "outputs": [],
   "source": [
    "ratings_matrix = ratings_df.to_numpy()\n",
    "\n",
    "def get_items_rated_by_user(rate_matrix, user_id):\n",
    "    user_row_indices = np.where(rate_matrix[:, 0] == user_id + 1)[0]\n",
    "    if len(user_row_indices) == 0:\n",
    "        return np.array([]), np.array([])  \n",
    "\n",
    "    item_ids = rate_matrix[user_row_indices, 1] - 1  \n",
    "    scores = rate_matrix[user_row_indices, 2]\n",
    "    return item_ids.astype(int), scores  \n",
    "\n",
    "# TfidfVectorizer và cosine similarity\n",
    "tfidf_vectorizer = TfidfVectorizer(max_features=5000, stop_words=\"english\")\n",
    "vectors = tfidf_vectorizer.fit_transform(items_df[\"Description\"]).toarray()\n",
    "similarity = cosine_similarity(vectors)\n",
    "\n",
    "# Chuyển ratings_df thành numpy array cho việc truy xuất\n",
    "ratings_matrix = ratings_df[['CustomerID', 'stockCodeTransform', 'rate']].to_numpy()\n",
    "\n",
    "n_items = len(items_df)\n",
    "n_users = len(users_df)"
   ]
  },
  {
   "cell_type": "code",
   "execution_count": 4,
   "metadata": {},
   "outputs": [],
   "source": [
    "\n",
    "# Chia dữ liệu thành train và test (80:20)\n",
    "train_matrix, test_matrix = train_test_split(ratings_matrix, test_size=0.2, random_state=42)\n"
   ]
  },
  {
   "cell_type": "code",
   "execution_count": 5,
   "id": "7d90ded7",
   "metadata": {},
   "outputs": [],
   "source": [
    "# Sử dụng mô hình KNN để huấn luyện trên tập train\n",
    "n_items = len(items_df)\n",
    "n_users = len(users_df)\n",
    "k_neighbors = 5  \n",
    "\n",
    "knn_models = [None] * n_users\n",
    "\n",
    "for n in range(n_users):\n",
    "    ids, scores = get_items_rated_by_user(train_matrix, n)\n",
    "\n",
    "    if len(ids) == 0:\n",
    "        knn_models[n] = None  # Nếu người dùng chưa đánh giá phim nào\n",
    "        continue\n",
    "    \n",
    "    k_neighbors_user = min(k_neighbors, len(ids))  # Điều chỉnh số lượng hàng xóm\n",
    "    \n",
    "    knn = KNeighborsRegressor(n_neighbors=k_neighbors_user, weights='uniform', metric='cosine')\n",
    "    \n",
    "    Xhat = vectors[ids, :]  # Đặc trưng của các phim đã được đánh giá\n",
    "    y = scores  # Điểm đánh giá thực tế\n",
    "    \n",
    "    knn.fit(Xhat, y)\n",
    "    \n",
    "    knn_models[n] = knn\n"
   ]
  },
  {
   "cell_type": "code",
   "execution_count": 6,
   "id": "20243a0d",
   "metadata": {},
   "outputs": [],
   "source": [
    "# Hàm tính RMSE\n",
    "def evaluate(Yhat, rates):\n",
    "    se = 0\n",
    "    cnt = 0\n",
    "    for n in range(n_users):\n",
    "        ids, scores_truth = get_items_rated_by_user(rates, n)\n",
    "        if len(ids) == 0:\n",
    "            continue  # Nếu người dùng chưa đánh giá phim nào, bỏ qua\n",
    "        scores_pred = Yhat[ids, n]\n",
    "        e = scores_truth - scores_pred \n",
    "        se += (e * e).sum()\n",
    "        cnt += e.size \n",
    "    return sqrt(se / cnt) if cnt != 0 else float('nan')"
   ]
  },
  {
   "cell_type": "code",
   "execution_count": 7,
   "id": "0b1395a6",
   "metadata": {},
   "outputs": [
    {
     "name": "stdout",
     "output_type": "stream",
     "text": [
      "RMSE trên tập huấn luyện: 0.8377\n",
      "RMSE trên tập kiểm tra: 1.0378\n"
     ]
    }
   ],
   "source": [
    "# Dự đoán trên toàn bộ ma trận Yhat cho tập huấn luyện và kiểm tra\n",
    "Yhat_train = np.zeros((n_items, n_users))\n",
    "Yhat_test = np.zeros((n_items, n_users))\n",
    "\n",
    "for n in range(n_users):\n",
    "    if knn_models[n] is not None:\n",
    "        Yhat_train[:, n] = knn_models[n].predict(vectors)  # Dự đoán cho tập huấn luyện\n",
    "        Yhat_test[:, n] = knn_models[n].predict(vectors)   # Dự đoán cho tập kiểm tra\n",
    "    else:\n",
    "        Yhat_train[:, n] = 0  # Nếu người dùng chưa đánh giá phim nào\n",
    "        Yhat_test[:, n] = 0\n",
    "\n",
    "# Tính RMSE cho tập huấn luyện và kiểm tra\n",
    "train_rmse = evaluate(Yhat_train, train_matrix)\n",
    "test_rmse = evaluate(Yhat_test, test_matrix)\n",
    "\n",
    "# Làm tròn RMSE\n",
    "train_rmse_rounded = round(train_rmse, 4) \n",
    "test_rmse_rounded = round(test_rmse, 4)\n",
    "\n",
    "print(f\"RMSE trên tập huấn luyện: {train_rmse_rounded}\")\n",
    "print(f\"RMSE trên tập kiểm tra: {test_rmse_rounded}\")"
   ]
  },
  {
   "cell_type": "code",
   "execution_count": 8,
   "id": "bb3fcdc4",
   "metadata": {},
   "outputs": [],
   "source": [
    "import pickle\n",
    "\n",
    "# Lưu toàn bộ mô hình KNN cho tất cả người dùng vào một tệp duy nhất\n",
    "with open('knn_models.pkl', 'wb') as file:\n",
    "    pickle.dump(knn_models, file)\n",
    "    \n",
    "# Tải lại toàn bộ mô hình KNN từ tệp\n",
    "with open('knn_models.pkl', 'rb') as file:\n",
    "    knn_models = pickle.load(file)\n"
   ]
  },
  {
   "cell_type": "code",
   "execution_count": 9,
   "id": "6bce0c17",
   "metadata": {},
   "outputs": [],
   "source": [
    "# Tạo tập dữ liệu đầy đủ \n",
    "full_data  = ratings_matrix "
   ]
  },
  {
   "cell_type": "code",
   "execution_count": 10,
   "id": "d4841e99",
   "metadata": {},
   "outputs": [],
   "source": [
    "# Dự đoán trên toàn bộ ma trận Yhat cho tập huấn luyện và kiểm tra\n",
    "Yhat_CB = np.zeros((n_items, n_users))\n",
    "\n",
    "for n in range(n_users):\n",
    "    if knn_models[n] is not None:\n",
    "        Yhat_CB[:, n] = knn_models[n].predict(vectors)  # Dự đoán cho tập huấn luyện\n",
    "    else:\n",
    "        Yhat_CB[:, n] = 0  # Nếu người dùng chưa đánh giá phim nào"
   ]
  },
  {
   "cell_type": "code",
   "execution_count": 11,
   "id": "e1f72800",
   "metadata": {},
   "outputs": [
    {
     "name": "stdout",
     "output_type": "stream",
     "text": [
      "[[4.4 5.  4.6 ... 3.6 2.2 5. ]\n",
      " [4.4 5.  4.6 ... 3.6 2.2 5. ]\n",
      " [4.4 5.  4.6 ... 3.6 2.2 5. ]\n",
      " ...\n",
      " [4.4 5.  4.6 ... 3.6 2.2 4.8]\n",
      " [4.4 5.  4.6 ... 3.6 2.2 4.8]\n",
      " [4.4 5.  4.6 ... 3.6 2.2 4.8]]\n"
     ]
    },
    {
     "data": {
      "text/plain": [
       "3642"
      ]
     },
     "execution_count": 11,
     "metadata": {},
     "output_type": "execute_result"
    }
   ],
   "source": [
    "# Lưu ma trận Yhat vào file numpy\n",
    "np.save('Yhat_CB.npy', Yhat_CB)\n",
    "\n",
    "# Để tải lại ma trận Yhat sau này\n",
    "Yhat_loaded = np.load('Yhat_CB.npy')\n",
    "print(Yhat_loaded)\n",
    "Yhat_loaded.shape[0]"
   ]
  }
 ],
 "metadata": {
  "kernelspec": {
   "display_name": "base",
   "language": "python",
   "name": "python3"
  },
  "language_info": {
   "codemirror_mode": {
    "name": "ipython",
    "version": 3
   },
   "file_extension": ".py",
   "mimetype": "text/x-python",
   "name": "python",
   "nbconvert_exporter": "python",
   "pygments_lexer": "ipython3",
   "version": "3.11.5"
  },
  "papermill": {
   "default_parameters": {},
   "duration": 17.852979,
   "end_time": "2022-02-20T12:53:08.832586",
   "environment_variables": {},
   "exception": null,
   "input_path": "__notebook__.ipynb",
   "output_path": "__notebook__.ipynb",
   "parameters": {},
   "start_time": "2022-02-20T12:52:50.979607",
   "version": "2.3.3"
  }
 },
 "nbformat": 4,
 "nbformat_minor": 5
}

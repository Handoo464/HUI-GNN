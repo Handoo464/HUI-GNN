{
 "cells": [
  {
   "cell_type": "markdown",
   "metadata": {
    "collapsed": true
   },
   "source": [
    "# SVD for Recommendation System "
   ]
  },
  {
   "cell_type": "code",
   "execution_count": 1,
   "metadata": {},
   "outputs": [
    {
     "name": "stdout",
     "output_type": "stream",
     "text": [
      "RMSE: 0.7676\n",
      "RMSE: 0.9125\n"
     ]
    }
   ],
   "source": [
    "import pandas as pd\n",
    "import numpy as np\n",
    "import time\n",
    "from surprise import SVD, Dataset, Reader\n",
    "from surprise.model_selection import train_test_split\n",
    "from joblib import dump, load\n",
    "from surprise.accuracy import rmse\n",
    "\n",
    "# 1. Đọc dữ liệu từ file CSV\n",
    "ratings = pd.read_csv('./ratings.csv', names=['CustomerID', 'StockCode', 'rate'], header=0)\n",
    "\n",
    "# 2. Chuyển đổi dữ liệu sang định dạng của Surprise\n",
    "reader = Reader(rating_scale=(1, 5))\n",
    "data = Dataset.load_from_df(ratings[['CustomerID', 'StockCode', 'rate']], reader)\n",
    "\n",
    "# 3. Chia dữ liệu thành trainset và testset (80% cho huấn luyện, 20% cho kiểm tra)\n",
    "trainset, testset = train_test_split(data, test_size=0.2, random_state=42)\n",
    "\n",
    "# 4. Huấn luyện mô hình SVD\n",
    "algo = SVD(n_factors=75, reg_all=0.04, random_state=42)\n",
    "algo.fit(trainset)\n",
    "\n",
    "# 5. Đánh giá mô hình trên tập huấn luyện\n",
    "train_predictions = algo.test(trainset.build_testset())  # Dự đoán trên trainset\n",
    "\n",
    "train_rmse = rmse(train_predictions)\n",
    "\n",
    "# 6. Đánh giá mô hình trên tập kiểm tra\n",
    "test_predictions = algo.test(testset)  # Dự đoán trên testset\n",
    "test_rmse = rmse(test_predictions)\n"
   ]
  },
  {
   "cell_type": "code",
   "execution_count": 2,
   "metadata": {},
   "outputs": [],
   "source": [
    "# Tạo tập dữ liệu đầy đủ \n",
    "full_data = data.build_full_trainset()"
   ]
  },
  {
   "cell_type": "code",
   "execution_count": 3,
   "metadata": {},
   "outputs": [],
   "source": [
    "# 8. Tạo ma trận Yhat (dự đoán rating cho tất cả người dùng và sản phẩm)\n",
    "n_users = full_data.n_users\n",
    "n_items = full_data.n_items\n",
    "Yhat = np.zeros((n_items, n_users))\n",
    "\n",
    "for user_id in range(n_users):\n",
    "    for item_id in range(n_items):\n",
    "        est = algo.predict(uid=full_data.to_raw_uid(user_id), iid=full_data.to_raw_iid(item_id)).est\n",
    "        Yhat[item_id, user_id] = round(est, 1)"
   ]
  },
  {
   "cell_type": "code",
   "execution_count": 4,
   "metadata": {},
   "outputs": [
    {
     "name": "stdout",
     "output_type": "stream",
     "text": [
      "[[4.7 4.2 4.4 ... 4.2 1.7 4.6]\n",
      " [4.2 3.9 4.  ... 3.6 1.8 4.3]\n",
      " [4.9 4.6 4.6 ... 4.1 2.6 4.7]\n",
      " ...\n",
      " [4.4 4.1 4.3 ... 3.6 1.9 4.2]\n",
      " [4.3 3.9 4.2 ... 3.6 1.7 4.4]\n",
      " [4.3 4.  4.  ... 3.7 1.8 4.4]]\n"
     ]
    },
    {
     "data": {
      "text/plain": [
       "3642"
      ]
     },
     "execution_count": 4,
     "metadata": {},
     "output_type": "execute_result"
    }
   ],
   "source": [
    "# Lưu ma trận Yhat vào file numpy\n",
    "np.save('Yhat_SVD.npy', Yhat)\n",
    "\n",
    "# Để tải lại ma trận Yhat sau này\n",
    "Yhat_loaded = np.load('Yhat_SVD.npy')\n",
    "print(Yhat_loaded)\n",
    "Yhat_loaded.shape[0]\n"
   ]
  }
 ],
 "metadata": {
  "kernelspec": {
   "display_name": "base",
   "language": "python",
   "name": "python3"
  },
  "language_info": {
   "codemirror_mode": {
    "name": "ipython",
    "version": 3
   },
   "file_extension": ".py",
   "mimetype": "text/x-python",
   "name": "python",
   "nbconvert_exporter": "python",
   "pygments_lexer": "ipython3",
   "version": "3.11.5"
  }
 },
 "nbformat": 4,
 "nbformat_minor": 2
}

{
 "cells": [
  {
   "cell_type": "code",
   "execution_count": 1,
   "metadata": {},
   "outputs": [
    {
     "name": "stdout",
     "output_type": "stream",
     "text": [
      "Computing the cosine similarity matrix...\n",
      "Done computing similarity matrix.\n",
      "RMSE: 0.8581\n",
      "RMSE: 0.9711\n"
     ]
    }
   ],
   "source": [
    "import pandas as pd\n",
    "import numpy as np\n",
    "from surprise import Dataset, Reader, KNNWithMeans, accuracy\n",
    "from surprise.model_selection import train_test_split\n",
    "\n",
    "# Đọc dữ liệu từ file ratings.csv\n",
    "ratings = pd.read_csv('ratings.csv')\n",
    "\n",
    "# Chuyển cột CustomerID thành chuỗi để tránh lỗi khi xử lý\n",
    "ratings['CustomerID'] = ratings['CustomerID'].astype(str)\n",
    "\n",
    "# Chuẩn hóa dữ liệu với Surprise Reader\n",
    "reader = Reader(line_format='user item rating', sep=',')\n",
    "data = Dataset.load_from_df(ratings[['CustomerID', 'stockCodeTransform', 'rate']], reader)\n",
    "\n",
    "# Chia dữ liệu thành tập huấn luyện và kiểm tra (80% train, 20% test)\n",
    "trainset, testset = train_test_split(data, test_size=0.2, random_state=42)\n",
    "\n",
    "# Lớp Item-Based Collaborative Filtering\n",
    "class ItemBasedWithTopItems(KNNWithMeans):\n",
    "    def __init__(self, sim_options={'name': 'cosine', 'user_based': False}, *args, **kwargs):\n",
    "        super().__init__(sim_options=sim_options, *args, **kwargs)\n",
    "\n",
    "# Tạo đối tượng từ lớp ItemBasedWithTopItems\n",
    "model = ItemBasedWithTopItems()\n",
    "\n",
    "# Huấn luyện mô hình trên tập huấn luyện\n",
    "model.fit(trainset)\n",
    "\n",
    "# Dự đoán trên tập huấn luyện\n",
    "train_predictions = model.test(trainset.build_testset())\n",
    "\n",
    "# Dự đoán trên tập kiểm tra\n",
    "test_predictions = model.test(testset)\n",
    "\n",
    "# Tính RMSE cho tập huấn luyện và kiểm tra\n",
    "train_rmse = accuracy.rmse(train_predictions)\n",
    "test_rmse = accuracy.rmse(test_predictions)\n"
   ]
  },
  {
   "cell_type": "code",
   "execution_count": 2,
   "metadata": {},
   "outputs": [],
   "source": [
    "# Tạo tập dữ liệu đầy đủ \n",
    "full_data = data.build_full_trainset()"
   ]
  },
  {
   "cell_type": "code",
   "execution_count": 3,
   "metadata": {},
   "outputs": [
    {
     "name": "stdout",
     "output_type": "stream",
     "text": [
      "[[4.3 4.  4.  ... 3.4 1.5 4.3]\n",
      " [4.1 3.4 3.5 ... 2.8 1.  3.8]\n",
      " [5.  5.  5.  ... 4.7 3.  5. ]\n",
      " ...\n",
      " [3.  3.  3.8 ... 3.  1.  3. ]\n",
      " [1.9 1.4 2.  ... 1.  1.  2.1]\n",
      " [2.8 3.1 2.  ... 2.1 1.  3.3]]\n"
     ]
    },
    {
     "data": {
      "text/plain": [
       "3642"
      ]
     },
     "execution_count": 3,
     "metadata": {},
     "output_type": "execute_result"
    }
   ],
   "source": [
    "\n",
    "user_ids = [full_data.to_raw_uid(u) for u in range(full_data.n_users)]  # Người dùng\n",
    "item_ids = [full_data.to_raw_iid(i) for i in range(full_data.n_items)]  # Sản phẩm\n",
    "\n",
    "# Tạo ma trận Yhat với đúng thứ tự: hàng là sản phẩm, cột là người dùng\n",
    "Yhat = np.zeros((len(item_ids), len(user_ids)))  # Khởi tạo ma trận dự đoán\n",
    "\n",
    "# Điền giá trị dự đoán vào ma trận\n",
    "for item_idx, item_id in enumerate(item_ids):  # Sản phẩm làm hàng\n",
    "    for user_idx, user_id in enumerate(user_ids):  # Người dùng làm cột\n",
    "        est = model.predict(user_id, item_id).est\n",
    "        Yhat[item_idx, user_idx] = est\n",
    "\n",
    "# Làm tròn giá trị đến chữ số thập phân thứ nhất\n",
    "Yhat = np.round(Yhat, 1)\n",
    "# Lưu ma trận Yhat vào file numpy\n",
    "np.save('Yhat_IB.npy', Yhat)\n",
    "\n",
    "# Để tải lại ma trận Yhat sau này\n",
    "Yhat_loaded = np.load('Yhat_IB.npy')\n",
    "print(Yhat_loaded)\n",
    "Yhat_loaded.shape[0]"
   ]
  },
  {
   "cell_type": "code",
   "execution_count": 4,
   "metadata": {},
   "outputs": [],
   "source": [
    "\n",
    "import pickle\n",
    "\n",
    "# Lưu mô hình vào tệp\n",
    "with open('item_based_model.pkl', 'wb') as file:\n",
    "    pickle.dump(model, file)\n",
    "\n",
    "# Tải mô hình đã lưu\n",
    "with open('item_based_model.pkl', 'rb') as file:\n",
    "    model = pickle.load(file)\n"
   ]
  }
 ],
 "metadata": {
  "kernelspec": {
   "display_name": "base",
   "language": "python",
   "name": "python3"
  },
  "language_info": {
   "codemirror_mode": {
    "name": "ipython",
    "version": 3
   },
   "file_extension": ".py",
   "mimetype": "text/x-python",
   "name": "python",
   "nbconvert_exporter": "python",
   "pygments_lexer": "ipython3",
   "version": "3.11.5"
  }
 },
 "nbformat": 4,
 "nbformat_minor": 2
}

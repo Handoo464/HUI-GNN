{
 "cells": [
  {
   "cell_type": "markdown",
   "metadata": {
    "collapsed": true
   },
   "source": [
    "# Matrix Factorization"
   ]
  },
  {
   "cell_type": "code",
   "execution_count": 4,
   "metadata": {},
   "outputs": [],
   "source": [
    "import pandas as pd \n",
    "import numpy as np\n",
    "from sklearn.metrics.pairwise import cosine_similarity\n",
    "from scipy import sparse \n",
    "\n",
    "class MF(object):\n",
    "    \"\"\"docstring for CF\"\"\"\n",
    "    def __init__(self, Y_data, K, lam = 0.1, Xinit = None, Winit = None, \n",
    "                 learning_rate = 0.5, max_iter = 1000, print_every = 100, user_based = 1):\n",
    "        self.Y_raw_data = Y_data\n",
    "        self.K = K\n",
    "        self.lam = lam\n",
    "        self.learning_rate = learning_rate\n",
    "        self.max_iter = max_iter\n",
    "        self.print_every = print_every\n",
    "        self.user_based = user_based\n",
    "        # number of users and items. Remember to add 1 since id starts from 0\n",
    "        self.n_users = int(np.max(Y_data[:, 0])) + 1 \n",
    "        self.n_items = int(np.max(Y_data[:, 1])) + 1\n",
    "        \n",
    "        if Xinit is None: \n",
    "            self.X = np.random.randn(self.n_items, K)\n",
    "        else:\n",
    "            self.X = Xinit \n",
    "        \n",
    "        if Winit is None: \n",
    "            self.W = np.random.randn(K, self.n_users)\n",
    "        else: \n",
    "            self.W = Winit\n",
    "            \n",
    "        #self.all_users = self.Y_data[:,0] # all users (may be duplicated)\n",
    "        self.n_ratings = Y_data.shape[0]\n",
    "        # normalized data\n",
    "        self.Y_data_n = self.Y_raw_data.copy()\n",
    "\n",
    "    def normalize_Y(self):\n",
    "        if self.user_based:\n",
    "            user_col = 0\n",
    "            item_col = 1\n",
    "            n_objects = self.n_users\n",
    "        else:\n",
    "            user_col = 1\n",
    "            item_col = 0 \n",
    "            n_objects = self.n_items\n",
    "\n",
    "        users = self.Y_raw_data[:, user_col] \n",
    "        self.mu = np.zeros((n_objects,))\n",
    "        for n in range(n_objects):\n",
    "            # row indices of rating done by user n\n",
    "            # since indices need to be integers, need to convert\n",
    "            ids = np.where(users == n)[0].astype(np.int32)\n",
    "            # indices of all ratings associated with user n\n",
    "            item_ids = self.Y_data_n[ids, item_col] \n",
    "            # and the corresponding ratings \n",
    "            ratings = self.Y_data_n[ids, 2]\n",
    "            # take mean\n",
    "            m = np.mean(ratings) \n",
    "            if np.isnan(m):\n",
    "                m = 0 # to avoid empty array and nan value\n",
    "            self.mu[n] = m\n",
    "            # normalize\n",
    "            self.Y_data_n[ids, 2] = ratings - self.mu[n]\n",
    "            \n",
    "    \n",
    "    def loss(self):\n",
    "        L = 0 \n",
    "        for i in range(self.Y_data_n.shape[0]):\n",
    "            # user, item, rating\n",
    "            n, m, rate = int(self.Y_data_n[i, 0]), int(self.Y_data_n[i, 1]), self.Y_data_n[i, 2]\n",
    "            L += 0.5*(rate - self.X[m, :].dot(self.W[:, n]))**2\n",
    "            \n",
    "        # regularization \n",
    "        L /= self.n_ratings\n",
    "        L += 0.5*self.lam*(np.linalg.norm(self.X, 'fro') + np.linalg.norm(self.W, 'fro'))\n",
    "        return L \n",
    "\n",
    "    \n",
    "    def get_items_rated_by_user(self, user_id):\n",
    "        \"\"\"\n",
    "        get all items which are rated by user n, and the corresponding ratings\n",
    "        \"\"\"\n",
    "        # y = self.Y_data_n[:,0] # all users (may be duplicated)\n",
    "        # item indices rated by user_id\n",
    "        # need to +1 to user_id since in the rate_matrix, id starts from 1 \n",
    "        # while index in python starts from 0\n",
    "        ids = np.where(self.Y_data_n[:,0] == user_id)[0] \n",
    "        item_ids = self.Y_data_n[ids, 1].astype(np.int32) # index starts from 0 \n",
    "        ratings = self.Y_data_n[ids, 2]\n",
    "        return (item_ids, ratings)\n",
    "        \n",
    "        \n",
    "    def get_users_who_rate_item(self, item_id):\n",
    "        \"\"\"\n",
    "        get all users who rated item m and get the corresponding ratings\n",
    "        \"\"\"\n",
    "        ids = np.where(self.Y_data_n[:,1] == item_id)[0] \n",
    "        user_ids = self.Y_data_n[ids, 0].astype(np.int32)\n",
    "        ratings = self.Y_data_n[ids, 2]\n",
    "        return (user_ids, ratings)\n",
    "        \n",
    "    def updateX(self):\n",
    "        for m in range(self.n_items):\n",
    "            user_ids, ratings = self.get_users_who_rate_item(m)\n",
    "            Wm = self.W[:, user_ids]\n",
    "            grad_xm = -(ratings - self.X[m, :].dot(Wm)).dot(Wm.T)/self.n_ratings + \\\n",
    "                                               self.lam*self.X[m, :]\n",
    "            self.X[m, :] -= self.learning_rate*grad_xm.reshape((self.K,))\n",
    "    \n",
    "    def updateW(self):\n",
    "        for n in range(self.n_users):\n",
    "            item_ids, ratings = self.get_items_rated_by_user(n)\n",
    "            Xn = self.X[item_ids, :]\n",
    "            grad_wn = -Xn.T.dot(ratings - Xn.dot(self.W[:, n]))/self.n_ratings + \\\n",
    "                        self.lam*self.W[:, n]\n",
    "            self.W[:, n] -= self.learning_rate*grad_wn.reshape((self.K,))\n",
    "    \n",
    "    def fit(self):\n",
    "        self.normalize_Y()\n",
    "        for it in range(self.max_iter):\n",
    "            self.updateX()\n",
    "            self.updateW()\n",
    "            if (it + 1) % self.print_every == 0:\n",
    "                rmse_train = self.evaluate_RMSE(self.Y_raw_data)\n",
    "                print (\"iter =\", it + 1, \", loss =\", self.loss(), \", RMSE train =\", rmse_train)\n",
    "    \n",
    "    \n",
    "    def pred(self, u, i):\n",
    "        \"\"\" \n",
    "        predict the rating of user u for item i \n",
    "        \"\"\"\n",
    "        u = int(u)\n",
    "        i = int(i)\n",
    "        \n",
    "        if self.user_based:\n",
    "            bias = self.mu[u]\n",
    "        else: \n",
    "            bias = self.mu[i]\n",
    "        pred = self.X[i, :].dot(self.W[:, u]) + bias \n",
    "        if pred < 1:\n",
    "            return 1 \n",
    "        if pred > 5: \n",
    "            return 5 \n",
    "        return pred \n",
    "        \n",
    "    \n",
    "    def pred_for_user(self, user_id):\n",
    "        ids = np.where(self.Y_data_n[:, 0] == user_id)[0]\n",
    "        items_rated_by_u = self.Y_data_n[ids, 1].tolist()              \n",
    "        \n",
    "        y_pred = self.X.dot(self.W[:, user_id]) + self.mu[user_id]\n",
    "        predicted_ratings= []\n",
    "        for i in range(self.n_items):\n",
    "            if i not in items_rated_by_u:\n",
    "                predicted_ratings.append((i, y_pred[i]))\n",
    "        \n",
    "        return predicted_ratings\n",
    "    \n",
    "    def evaluate_RMSE(self, rate_test):\n",
    "        n_tests = rate_test.shape[0]\n",
    "        SE = 0 # squared error\n",
    "        for n in range(n_tests):\n",
    "            pred = self.pred(rate_test[n, 0], rate_test[n, 1])\n",
    "            SE += (pred - rate_test[n, 2])**2 \n",
    "\n",
    "        RMSE = np.sqrt(SE/n_tests)\n",
    "        return RMSE\n"
   ]
  },
  {
   "cell_type": "code",
   "execution_count": 16,
   "metadata": {
    "collapsed": true
   },
   "outputs": [],
   "source": [
    "r_cols = ['userId', 'itemId', 'rating']\n",
    "\n",
    "ratings_base = pd.read_csv('./ratings.csv', sep=',', names=r_cols, encoding='latin-1', header=0)\n",
    "\n",
    "# Convert userID and itemID columns to integers\n",
    "ratings_base['userId'] = ratings_base['userId'].astype(int)\n",
    "ratings_base['itemId'] = ratings_base['itemId'].astype(int)\n",
    "\n",
    "rate_train = ratings_base.to_numpy()\n",
    "\n",
    "# Adjust indices so that they start from 0\n",
    "rate_train[:, :2] -= 1"
   ]
  },
  {
   "cell_type": "code",
   "execution_count": 17,
   "metadata": {},
   "outputs": [
    {
     "name": "stdout",
     "output_type": "stream",
     "text": [
      "iter = 10 , loss = 12.01723774963348 , RMSE train = 1.238428830983639\n",
      "iter = 20 , loss = 5.755035004252499 , RMSE train = 1.1157175391464231\n",
      "iter = 30 , loss = 2.968231508275845 , RMSE train = 1.1087898577544388\n",
      "iter = 40 , loss = 1.6938457222139358 , RMSE train = 1.1086614869417803\n",
      "iter = 50 , loss = 1.1095494922882214 , RMSE train = 1.1086998619930535\n",
      "iter = 60 , loss = 0.8415944302343801 , RMSE train = 1.1087119068581643\n",
      "iter = 70 , loss = 0.7187112371310225 , RMSE train = 1.108714842708818\n",
      "iter = 80 , loss = 0.6623579675429171 , RMSE train = 1.108715525725856\n",
      "iter = 90 , loss = 0.6365149391218838 , RMSE train = 1.1087156823275275\n",
      "iter = 100 , loss = 0.6246636221442141 , RMSE train = 1.1087157179525444\n",
      "\n",
      "User-based MF, RMSE = 1.1087157179525444\n"
     ]
    }
   ],
   "source": [
    "rs = MF(rate_train, K = 10, lam = .1, print_every = 10, learning_rate = 0.75, max_iter = 100, user_based = 1)\n",
    "rs.fit()\n",
    "# evaluate on data\n",
    "RMSE = rs.evaluate_RMSE(rate_train)\n",
    "print (\"\\nUser-based MF, RMSE =\", RMSE)"
   ]
  },
  {
   "cell_type": "code",
   "execution_count": 18,
   "metadata": {},
   "outputs": [
    {
     "name": "stdout",
     "output_type": "stream",
     "text": [
      "iter = 10 , loss = 11.847486656120967 , RMSE train = 1.0818093872949304\n",
      "iter = 20 , loss = 5.5827333996123585 , RMSE train = 0.9456746613640713\n",
      "iter = 30 , loss = 2.794623405908604 , RMSE train = 0.9382657614193841\n",
      "iter = 40 , loss = 1.5197046872702187 , RMSE train = 0.9381022316421769\n",
      "iter = 50 , loss = 0.9351804125034042 , RMSE train = 0.9381401820102356\n",
      "iter = 60 , loss = 0.6671238477300292 , RMSE train = 0.9381531745307061\n",
      "iter = 70 , loss = 0.5441946366499508 , RMSE train = 0.9381565143125821\n",
      "iter = 80 , loss = 0.48782034253129775 , RMSE train = 0.9381573258516173\n",
      "iter = 90 , loss = 0.46196767629214597 , RMSE train = 0.938157518939785\n",
      "iter = 100 , loss = 0.45011193351115486 , RMSE train = 0.938157564303392\n",
      "\n",
      "Item-based MF, RMSE = 0.938157564303392\n"
     ]
    }
   ],
   "source": [
    "rs = MF(rate_train, K = 10, lam = .1, print_every = 10, learning_rate = 0.75, max_iter = 100, user_based = 0)\n",
    "rs.fit()\n",
    "# evaluate on data\n",
    "RMSE = rs.evaluate_RMSE(rate_train)\n",
    "print (\"\\nItem-based MF, RMSE =\", RMSE)"
   ]
  },
  {
   "cell_type": "code",
   "execution_count": 19,
   "metadata": {},
   "outputs": [
    {
     "name": "stdout",
     "output_type": "stream",
     "text": [
      "iter = 10 , loss = 1.3805388875000366 , RMSE train = 1.3409997146841588\n",
      "iter = 20 , loss = 1.3455075409406052 , RMSE train = 1.3315408521056242\n",
      "iter = 30 , loss = 1.3129409282425941 , RMSE train = 1.3224433938041646\n",
      "iter = 40 , loss = 1.282568546645268 , RMSE train = 1.3137170837483485\n",
      "iter = 50 , loss = 1.2541609812162464 , RMSE train = 1.305320584703306\n",
      "iter = 60 , loss = 1.2275216708054344 , RMSE train = 1.2972299111891776\n",
      "iter = 70 , loss = 1.2024807739702095 , RMSE train = 1.289435113025432\n",
      "iter = 80 , loss = 1.1788904877480884 , RMSE train = 1.2819215654056402\n",
      "iter = 90 , loss = 1.1566213995957406 , RMSE train = 1.2746717990374459\n",
      "iter = 100 , loss = 1.1355595932324931 , RMSE train = 1.2677108465527178\n",
      "\n",
      "Item-based MF, RMSE = 1.2677108465527178\n"
     ]
    }
   ],
   "source": [
    "rs = MF(rate_train, K = 2, lam = 0, print_every = 10, learning_rate = 1, max_iter = 100, user_based = 0)\n",
    "rs.fit()\n",
    "# evaluate on  data\n",
    "RMSE = rs.evaluate_RMSE(rate_train)\n",
    "print (\"\\nItem-based MF, RMSE =\", RMSE)"
   ]
  },
  {
   "cell_type": "code",
   "execution_count": 22,
   "metadata": {
    "collapsed": true
   },
   "outputs": [
    {
     "data": {
      "text/plain": [
       "1.2677108465527178"
      ]
     },
     "execution_count": 22,
     "metadata": {},
     "output_type": "execute_result"
    }
   ],
   "source": [
    "RMSE = rs.evaluate_RMSE(rate_train)\n",
    "RMSE"
   ]
  }
 ],
 "metadata": {
  "kernelspec": {
   "display_name": "base",
   "language": "python",
   "name": "python3"
  },
  "language_info": {
   "codemirror_mode": {
    "name": "ipython",
    "version": 3
   },
   "file_extension": ".py",
   "mimetype": "text/x-python",
   "name": "python",
   "nbconvert_exporter": "python",
   "pygments_lexer": "ipython3",
   "version": "3.11.5"
  }
 },
 "nbformat": 4,
 "nbformat_minor": 2
}
